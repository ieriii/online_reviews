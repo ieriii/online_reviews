{
 "cells": [
  {
   "cell_type": "code",
   "execution_count": 1,
   "metadata": {
    "colab": {},
    "colab_type": "code",
    "id": "aynx8F6O1fIN"
   },
   "outputs": [],
   "source": [
    "from fastai.text import *\n",
    "import pandas as pd\n",
    "from sklearn.model_selection import train_test_split"
   ]
  },
  {
   "cell_type": "code",
   "execution_count": 2,
   "metadata": {
    "colab": {
     "base_uri": "https://localhost:8080/",
     "height": 142
    },
    "colab_type": "code",
    "executionInfo": {
     "elapsed": 8317,
     "status": "ok",
     "timestamp": 1569527447073,
     "user": {
      "displayName": "Enrico Alemani",
      "photoUrl": "https://lh3.googleusercontent.com/a-/AAuE7mA4C8laWqMnKAOODQhP1RBcWqGjIz4S-56F60O1=s64",
      "userId": "18138561668109286622"
     },
     "user_tz": -60
    },
    "id": "7y-ASrK61qE9",
    "outputId": "3ee11c2c-ff80-4802-e068-f50b4a0c23ef"
   },
   "outputs": [
    {
     "data": {
      "text/html": [
       "<div>\n",
       "<style scoped>\n",
       "    .dataframe tbody tr th:only-of-type {\n",
       "        vertical-align: middle;\n",
       "    }\n",
       "\n",
       "    .dataframe tbody tr th {\n",
       "        vertical-align: top;\n",
       "    }\n",
       "\n",
       "    .dataframe thead th {\n",
       "        text-align: right;\n",
       "    }\n",
       "</style>\n",
       "<table border=\"1\" class=\"dataframe\">\n",
       "  <thead>\n",
       "    <tr style=\"text-align: right;\">\n",
       "      <th></th>\n",
       "      <th>0</th>\n",
       "      <th>1</th>\n",
       "      <th>2</th>\n",
       "      <th>3</th>\n",
       "      <th>4</th>\n",
       "      <th>5</th>\n",
       "      <th>6</th>\n",
       "      <th>7</th>\n",
       "      <th>8</th>\n",
       "    </tr>\n",
       "  </thead>\n",
       "  <tbody>\n",
       "    <tr>\n",
       "      <th>0</th>\n",
       "      <td>9/22/2012</td>\n",
       "      <td>GtwU21YOQn-wf4vWRUIx6w</td>\n",
       "      <td>bNYesZ944s6IJVowOnB0iA</td>\n",
       "      <td>pbEiXam9YJL3neCYHGwLUA</td>\n",
       "      <td>N</td>\n",
       "      <td>0</td>\n",
       "      <td>0</td>\n",
       "      <td>0</td>\n",
       "      <td>5</td>\n",
       "    </tr>\n",
       "    <tr>\n",
       "      <th>1</th>\n",
       "      <td>9/22/2012</td>\n",
       "      <td>0LpVTc3</td>\n",
       "      <td>TRKxLC3y-ZvP45e5iilMtw</td>\n",
       "      <td>pbEiXam9YJL3neCYHGwLUA</td>\n",
       "      <td>N</td>\n",
       "      <td>0</td>\n",
       "      <td>0</td>\n",
       "      <td>0</td>\n",
       "      <td>5</td>\n",
       "    </tr>\n",
       "    <tr>\n",
       "      <th>2</th>\n",
       "      <td>9/19/2012</td>\n",
       "      <td>tljtLzf68Fkwf</td>\n",
       "      <td>0EMm8umAqXZzyhxNpL4M9g</td>\n",
       "      <td>pbEiXam9YJL3neCYHGwLUA</td>\n",
       "      <td>N</td>\n",
       "      <td>0</td>\n",
       "      <td>0</td>\n",
       "      <td>2</td>\n",
       "      <td>3</td>\n",
       "    </tr>\n",
       "  </tbody>\n",
       "</table>\n",
       "</div>"
      ],
      "text/plain": [
       "           0                       1                       2  \\\n",
       "0  9/22/2012  GtwU21YOQn-wf4vWRUIx6w  bNYesZ944s6IJVowOnB0iA   \n",
       "1  9/22/2012                 0LpVTc3  TRKxLC3y-ZvP45e5iilMtw   \n",
       "2  9/19/2012           tljtLzf68Fkwf  0EMm8umAqXZzyhxNpL4M9g   \n",
       "\n",
       "                        3  4  5  6  7  8  \n",
       "0  pbEiXam9YJL3neCYHGwLUA  N  0  0  0  5  \n",
       "1  pbEiXam9YJL3neCYHGwLUA  N  0  0  0  5  \n",
       "2  pbEiXam9YJL3neCYHGwLUA  N  0  0  2  3  "
      ]
     },
     "execution_count": 2,
     "metadata": {},
     "output_type": "execute_result"
    }
   ],
   "source": [
    "path = 'data/Yelp/'\n",
    "df_meta = pd.read_csv(path+'output_meta_yelpResData_NRYRcleaned.txt', sep=' ', header=None)\n",
    "\n",
    "df_meta.head(3)"
   ]
  },
  {
   "cell_type": "code",
   "execution_count": 3,
   "metadata": {
    "colab": {
     "base_uri": "https://localhost:8080/",
     "height": 142
    },
    "colab_type": "code",
    "executionInfo": {
     "elapsed": 11267,
     "status": "ok",
     "timestamp": 1569527450271,
     "user": {
      "displayName": "Enrico Alemani",
      "photoUrl": "https://lh3.googleusercontent.com/a-/AAuE7mA4C8laWqMnKAOODQhP1RBcWqGjIz4S-56F60O1=s64",
      "userId": "18138561668109286622"
     },
     "user_tz": -60
    },
    "id": "f0Wn2hg_2eAV",
    "outputId": "53ecbea8-5728-454a-b5e7-254e3088bede"
   },
   "outputs": [
    {
     "data": {
      "text/html": [
       "<div>\n",
       "<style scoped>\n",
       "    .dataframe tbody tr th:only-of-type {\n",
       "        vertical-align: middle;\n",
       "    }\n",
       "\n",
       "    .dataframe tbody tr th {\n",
       "        vertical-align: top;\n",
       "    }\n",
       "\n",
       "    .dataframe thead th {\n",
       "        text-align: right;\n",
       "    }\n",
       "</style>\n",
       "<table border=\"1\" class=\"dataframe\">\n",
       "  <thead>\n",
       "    <tr style=\"text-align: right;\">\n",
       "      <th></th>\n",
       "      <th>0</th>\n",
       "    </tr>\n",
       "  </thead>\n",
       "  <tbody>\n",
       "    <tr>\n",
       "      <th>0</th>\n",
       "      <td>Unlike Next, which we'd eaten at the previous ...</td>\n",
       "    </tr>\n",
       "    <tr>\n",
       "      <th>1</th>\n",
       "      <td>Probably one of the best meals I've had ever. ...</td>\n",
       "    </tr>\n",
       "    <tr>\n",
       "      <th>2</th>\n",
       "      <td>Service was impeccable. Experience and present...</td>\n",
       "    </tr>\n",
       "  </tbody>\n",
       "</table>\n",
       "</div>"
      ],
      "text/plain": [
       "                                                   0\n",
       "0  Unlike Next, which we'd eaten at the previous ...\n",
       "1  Probably one of the best meals I've had ever. ...\n",
       "2  Service was impeccable. Experience and present..."
      ]
     },
     "execution_count": 3,
     "metadata": {},
     "output_type": "execute_result"
    }
   ],
   "source": [
    "df_reviews = pd.read_csv(path+'output_review_yelpResData_NRYRcleaned.txt', sep='\\r', header=None)\n",
    "df_reviews.head(3)"
   ]
  },
  {
   "cell_type": "code",
   "execution_count": 4,
   "metadata": {
    "colab": {},
    "colab_type": "code",
    "id": "M19nfJXm2i6h"
   },
   "outputs": [],
   "source": [
    "df_meta_reviews = pd.merge(df_meta, df_reviews, left_index=True, right_index=True)\n",
    "df_meta_reviews = df_meta_reviews.rename(columns={'0_x': 'date', 1: 'id', 2: 'id2', 3: 'id3', 4:'label', '0_y': 'text'})\n",
    "df_meta_reviews = df_meta_reviews[['label', 'text']]"
   ]
  },
  {
   "cell_type": "code",
   "execution_count": 5,
   "metadata": {
    "colab": {
     "base_uri": "https://localhost:8080/",
     "height": 142
    },
    "colab_type": "code",
    "executionInfo": {
     "elapsed": 10607,
     "status": "ok",
     "timestamp": 1569527450274,
     "user": {
      "displayName": "Enrico Alemani",
      "photoUrl": "https://lh3.googleusercontent.com/a-/AAuE7mA4C8laWqMnKAOODQhP1RBcWqGjIz4S-56F60O1=s64",
      "userId": "18138561668109286622"
     },
     "user_tz": -60
    },
    "id": "Ej4UmLy-5gNK",
    "outputId": "c0a94e48-363a-4462-a380-3ee8380aaae4"
   },
   "outputs": [
    {
     "data": {
      "text/html": [
       "<div>\n",
       "<style scoped>\n",
       "    .dataframe tbody tr th:only-of-type {\n",
       "        vertical-align: middle;\n",
       "    }\n",
       "\n",
       "    .dataframe tbody tr th {\n",
       "        vertical-align: top;\n",
       "    }\n",
       "\n",
       "    .dataframe thead th {\n",
       "        text-align: right;\n",
       "    }\n",
       "</style>\n",
       "<table border=\"1\" class=\"dataframe\">\n",
       "  <thead>\n",
       "    <tr style=\"text-align: right;\">\n",
       "      <th></th>\n",
       "      <th>label</th>\n",
       "      <th>text</th>\n",
       "    </tr>\n",
       "  </thead>\n",
       "  <tbody>\n",
       "    <tr>\n",
       "      <th>0</th>\n",
       "      <td>N</td>\n",
       "      <td>Unlike Next, which we'd eaten at the previous ...</td>\n",
       "    </tr>\n",
       "    <tr>\n",
       "      <th>1</th>\n",
       "      <td>N</td>\n",
       "      <td>Probably one of the best meals I've had ever. ...</td>\n",
       "    </tr>\n",
       "    <tr>\n",
       "      <th>2</th>\n",
       "      <td>N</td>\n",
       "      <td>Service was impeccable. Experience and present...</td>\n",
       "    </tr>\n",
       "  </tbody>\n",
       "</table>\n",
       "</div>"
      ],
      "text/plain": [
       "  label                                               text\n",
       "0     N  Unlike Next, which we'd eaten at the previous ...\n",
       "1     N  Probably one of the best meals I've had ever. ...\n",
       "2     N  Service was impeccable. Experience and present..."
      ]
     },
     "execution_count": 5,
     "metadata": {},
     "output_type": "execute_result"
    }
   ],
   "source": [
    "df_meta_reviews.head(3)"
   ]
  },
  {
   "cell_type": "code",
   "execution_count": 25,
   "metadata": {},
   "outputs": [],
   "source": [
    "# Downsample majority class (random undersampling)\n",
    "df_majority = df_meta_reviews[df_meta_reviews.label == 'N']\n",
    "df_minority = df_meta_reviews[df_meta_reviews.label == 'Y']\n"
   ]
  },
  {
   "cell_type": "code",
   "execution_count": 33,
   "metadata": {},
   "outputs": [],
   "source": [
    "from sklearn.utils import resample\n",
    "df_majority_downsampled = resample(df_majority, \n",
    "                                 replace=False,    # sample without replacement\n",
    "                                 n_samples= len(df_minority),     # to match minority class\n",
    "                                 random_state=123) # reproducible results"
   ]
  },
  {
   "cell_type": "code",
   "execution_count": 37,
   "metadata": {},
   "outputs": [],
   "source": [
    "df_downsampled = pd.concat([df_majority_downsampled, df_minority])"
   ]
  },
  {
   "cell_type": "code",
   "execution_count": 6,
   "metadata": {},
   "outputs": [
    {
     "name": "stderr",
     "output_type": "stream",
     "text": [
      "/home/ubuntu/anaconda3/lib/python3.7/site-packages/ipykernel_launcher.py:8: SettingWithCopyWarning: \n",
      "A value is trying to be set on a copy of a slice from a DataFrame.\n",
      "Try using .loc[row_indexer,col_indexer] = value instead\n",
      "\n",
      "See the caveats in the documentation: http://pandas.pydata.org/pandas-docs/stable/indexing.html#indexing-view-versus-copy\n",
      "  \n",
      "/home/ubuntu/anaconda3/lib/python3.7/site-packages/ipykernel_launcher.py:9: SettingWithCopyWarning: \n",
      "A value is trying to be set on a copy of a slice from a DataFrame.\n",
      "Try using .loc[row_indexer,col_indexer] = value instead\n",
      "\n",
      "See the caveats in the documentation: http://pandas.pydata.org/pandas-docs/stable/indexing.html#indexing-view-versus-copy\n",
      "  if __name__ == '__main__':\n"
     ]
    }
   ],
   "source": [
    "# Create training and validation split of data (it keeps the same % as in the original dataset)\n",
    "X_train, X_test, y_train, y_test = train_test_split(df_downsampled, df_downsampled['label'], test_size=0.3, random_state=0, stratify=df_downsampled['label'])\n",
    "\n",
    "# Check split\n",
    "#X_train[['label', 'text']].groupby(['label']).agg(['count'])\n",
    "\n",
    "# Generate bool is_valid to flag validiation\n",
    "X_train['is_valid'] = False\n",
    "X_test['is_valid'] = True\n",
    "\n",
    "# Generate final dataset\n",
    "df = X_train.append(X_test)"
   ]
  },
  {
   "cell_type": "markdown",
   "metadata": {
    "colab_type": "text",
    "id": "gqkuapDvZHqL"
   },
   "source": [
    "## Language model"
   ]
  },
  {
   "cell_type": "code",
   "execution_count": 7,
   "metadata": {
    "colab": {},
    "colab_type": "code",
    "id": "fzf8trzp7P3f"
   },
   "outputs": [],
   "source": [
    "#data_lm = TextLMDataBunch.from_df(path=path, \n",
    "#                                  train_df=df,\n",
    "#                                  valid_df=df,\n",
    "#                                  label_cols='label',\n",
    "#                                  text_cols='text')\n",
    "\n",
    "bs = 48\n",
    "data_lm = (TextList.from_df(df, path, cols='text')\n",
    "         .split_by_rand_pct(0.1)\n",
    "         .label_for_lm()\n",
    "         .databunch(bs=bs))"
   ]
  },
  {
   "cell_type": "code",
   "execution_count": 8,
   "metadata": {
    "colab": {},
    "colab_type": "code",
    "id": "5hUNsYTo9znO"
   },
   "outputs": [],
   "source": [
    "data_lm.save('YelpChi_lm.pkl')"
   ]
  },
  {
   "cell_type": "code",
   "execution_count": 9,
   "metadata": {
    "colab": {},
    "colab_type": "code",
    "id": "ECLCZ4TqDJ3h"
   },
   "outputs": [],
   "source": [
    "data_lm = load_data(path, 'YelpChi_lm.pkl', bs=bs)"
   ]
  },
  {
   "cell_type": "code",
   "execution_count": 10,
   "metadata": {
    "colab": {
     "base_uri": "https://localhost:8080/",
     "height": 306
    },
    "colab_type": "code",
    "executionInfo": {
     "elapsed": 76659,
     "status": "ok",
     "timestamp": 1569527517714,
     "user": {
      "displayName": "Enrico Alemani",
      "photoUrl": "https://lh3.googleusercontent.com/a-/AAuE7mA4C8laWqMnKAOODQhP1RBcWqGjIz4S-56F60O1=s64",
      "userId": "18138561668109286622"
     },
     "user_tz": -60
    },
    "id": "deUqTJbwEP41",
    "outputId": "282e537c-f96b-4f7a-b627-2904bccf0566"
   },
   "outputs": [
    {
     "data": {
      "text/html": [
       "<table border=\"1\" class=\"dataframe\">\n",
       "  <thead>\n",
       "    <tr style=\"text-align: right;\">\n",
       "      <th>idx</th>\n",
       "      <th>text</th>\n",
       "    </tr>\n",
       "  </thead>\n",
       "  <tbody>\n",
       "    <tr>\n",
       "      <td>0</td>\n",
       "      <td>the house ... what more could you ask for ? we shared a communal table , enjoyed the farm - y ( aka home for me ) decor , and xxunk at all the adorable mini mason jars on our table and displayed around the place . all the dishes were delicious and easy enough to share . i would definitely go with people you know , who are n't</td>\n",
       "    </tr>\n",
       "    <tr>\n",
       "      <td>1</td>\n",
       "      <td>plate . i get that xxup ge was trying to go for contrast , bold flavors , and wild combinations when he paired the lamb with cracked wheat and xxmaj clementine marmalade , but , no . xxmaj the xxmaj clementine marmalade was far too tart ; at first taste , i xxunk my entire face ( documented by brianq ) . xxmaj the cracked wheat was okay , but</td>\n",
       "    </tr>\n",
       "    <tr>\n",
       "      <td>2</td>\n",
       "      <td>jerusalem salad . xxmaj awesome xxmaj lentil soup as well . xxmaj they claim it is 100 % vegetarian , but it sure tastes like it has chicken stock in it to me . xxmaj we probably eat here nearly once it week we like it so much . xxmaj now if only their hummus was as good as xxmaj pita xxmaj inn , then they 'd be xxunk !</td>\n",
       "    </tr>\n",
       "    <tr>\n",
       "      <td>3</td>\n",
       "      <td>the crust becomes so thick and doughy and dry , it 's almost impossible to eat without dipping it in a bowl of sauce . i had to start eating backwards from the delicious crust ( still delicious as leftovers ) and throwing the rest away once it was gone . i did note a ridiculous m - f lunch special - less than $ 5 for a 7 inch</td>\n",
       "    </tr>\n",
       "    <tr>\n",
       "      <td>4</td>\n",
       "      <td>and a 1 / 2 chicken . xxmaj the 1 / 2 chicken comes with two sides so i had garlic mashed potatoes and corn . xxmaj the chicken was pretty good - moist and the rub they put on it was tasty . xxmaj the potatoes were disgusting . xxmaj could n't finish them . xxmaj the corn was ok . xxmaj the pizza had that kind of fake</td>\n",
       "    </tr>\n",
       "  </tbody>\n",
       "</table>"
      ],
      "text/plain": [
       "<IPython.core.display.HTML object>"
      ]
     },
     "metadata": {},
     "output_type": "display_data"
    }
   ],
   "source": [
    "data_lm.show_batch()"
   ]
  },
  {
   "cell_type": "code",
   "execution_count": 11,
   "metadata": {
    "colab": {},
    "colab_type": "code",
    "id": "-1ineAAdGUqg"
   },
   "outputs": [],
   "source": [
    "learn = language_model_learner(data_lm, AWD_LSTM, drop_mult=0.3)"
   ]
  },
  {
   "cell_type": "code",
   "execution_count": 12,
   "metadata": {
    "colab": {
     "base_uri": "https://localhost:8080/",
     "height": 34
    },
    "colab_type": "code",
    "executionInfo": {
     "elapsed": 104456,
     "status": "ok",
     "timestamp": 1569527550340,
     "user": {
      "displayName": "Enrico Alemani",
      "photoUrl": "https://lh3.googleusercontent.com/a-/AAuE7mA4C8laWqMnKAOODQhP1RBcWqGjIz4S-56F60O1=s64",
      "userId": "18138561668109286622"
     },
     "user_tz": -60
    },
    "id": "GKgl5F0iGYOj",
    "outputId": "3b33d72f-5236-4fb9-a3fe-6edf5175d376"
   },
   "outputs": [
    {
     "data": {
      "text/html": [],
      "text/plain": [
       "<IPython.core.display.HTML object>"
      ]
     },
     "metadata": {},
     "output_type": "display_data"
    },
    {
     "name": "stdout",
     "output_type": "stream",
     "text": [
      "LR Finder is complete, type {learner_name}.recorder.plot() to see the graph.\n"
     ]
    }
   ],
   "source": [
    "learn.lr_find()"
   ]
  },
  {
   "cell_type": "code",
   "execution_count": 13,
   "metadata": {
    "colab": {
     "base_uri": "https://localhost:8080/",
     "height": 283
    },
    "colab_type": "code",
    "executionInfo": {
     "elapsed": 77981,
     "status": "ok",
     "timestamp": 1569527550803,
     "user": {
      "displayName": "Enrico Alemani",
      "photoUrl": "https://lh3.googleusercontent.com/a-/AAuE7mA4C8laWqMnKAOODQhP1RBcWqGjIz4S-56F60O1=s64",
      "userId": "18138561668109286622"
     },
     "user_tz": -60
    },
    "id": "dygDy8X0GeJF",
    "outputId": "efefa0b6-f0e8-4f0e-8c34-72b2e614fd91"
   },
   "outputs": [
    {
     "data": {
      "image/png": "[encoded data removed]",
      "text/plain": [
       "<Figure size 432x288 with 1 Axes>"
      ]
     },
     "metadata": {
      "needs_background": "light"
     },
     "output_type": "display_data"
    }
   ],
   "source": [
    "#learn.recorder.plot(skip_end=15)\n",
    "learn.recorder.plot()"
   ]
  },
  {
   "cell_type": "code",
   "execution_count": 14,
   "metadata": {
    "colab": {
     "base_uri": "https://localhost:8080/",
     "height": 80
    },
    "colab_type": "code",
    "executionInfo": {
     "elapsed": 700574,
     "status": "ok",
     "timestamp": 1569528174278,
     "user": {
      "displayName": "Enrico Alemani",
      "photoUrl": "https://lh3.googleusercontent.com/a-/AAuE7mA4C8laWqMnKAOODQhP1RBcWqGjIz4S-56F60O1=s64",
      "userId": "18138561668109286622"
     },
     "user_tz": -60
    },
    "id": "zE-5IOkqHAho",
    "outputId": "0b280101-df63-4f4c-ac5d-7accc73688cf"
   },
   "outputs": [
    {
     "data": {
      "text/html": [
       "<table border=\"1\" class=\"dataframe\">\n",
       "  <thead>\n",
       "    <tr style=\"text-align: left;\">\n",
       "      <th>epoch</th>\n",
       "      <th>train_loss</th>\n",
       "      <th>valid_loss</th>\n",
       "      <th>accuracy</th>\n",
       "      <th>time</th>\n",
       "    </tr>\n",
       "  </thead>\n",
       "  <tbody>\n",
       "    <tr>\n",
       "      <td>0</td>\n",
       "      <td>3.809704</td>\n",
       "      <td>3.662015</td>\n",
       "      <td>0.308874</td>\n",
       "      <td>21:15</td>\n",
       "    </tr>\n",
       "  </tbody>\n",
       "</table>"
      ],
      "text/plain": [
       "<IPython.core.display.HTML object>"
      ]
     },
     "metadata": {},
     "output_type": "display_data"
    }
   ],
   "source": [
    "learn.fit_one_cycle(1, 1e-2, moms=(0.8,0.7))"
   ]
  },
  {
   "cell_type": "code",
   "execution_count": 15,
   "metadata": {
    "colab": {},
    "colab_type": "code",
    "id": "brptw8ZXHMBA"
   },
   "outputs": [],
   "source": [
    "learn.save('fit_head')"
   ]
  },
  {
   "cell_type": "code",
   "execution_count": 16,
   "metadata": {
    "colab": {},
    "colab_type": "code",
    "id": "TY6iFP65J0BD"
   },
   "outputs": [],
   "source": [
    "learn.load('fit_head');"
   ]
  },
  {
   "cell_type": "code",
   "execution_count": 17,
   "metadata": {
    "colab": {},
    "colab_type": "code",
    "id": "WSoZMPl-J2cY"
   },
   "outputs": [],
   "source": [
    "learn.unfreeze()"
   ]
  },
  {
   "cell_type": "code",
   "execution_count": 18,
   "metadata": {
    "colab": {
     "base_uri": "https://localhost:8080/",
     "height": 267
    },
    "colab_type": "code",
    "executionInfo": {
     "elapsed": 3683295,
     "status": "ok",
     "timestamp": 1569535748305,
     "user": {
      "displayName": "Enrico Alemani",
      "photoUrl": "https://lh3.googleusercontent.com/a-/AAuE7mA4C8laWqMnKAOODQhP1RBcWqGjIz4S-56F60O1=s64",
      "userId": "18138561668109286622"
     },
     "user_tz": -60
    },
    "id": "KjNDbGBhMSOK",
    "outputId": "6f21ccc1-ea5c-415e-fee2-5c16ea6eb830"
   },
   "outputs": [
    {
     "data": {
      "text/html": [
       "<table border=\"1\" class=\"dataframe\">\n",
       "  <thead>\n",
       "    <tr style=\"text-align: left;\">\n",
       "      <th>epoch</th>\n",
       "      <th>train_loss</th>\n",
       "      <th>valid_loss</th>\n",
       "      <th>accuracy</th>\n",
       "      <th>time</th>\n",
       "    </tr>\n",
       "  </thead>\n",
       "  <tbody>\n",
       "    <tr>\n",
       "      <td>0</td>\n",
       "      <td>3.498100</td>\n",
       "      <td>3.481936</td>\n",
       "      <td>0.330475</td>\n",
       "      <td>25:02</td>\n",
       "    </tr>\n",
       "    <tr>\n",
       "      <td>1</td>\n",
       "      <td>3.412442</td>\n",
       "      <td>3.392594</td>\n",
       "      <td>0.342079</td>\n",
       "      <td>25:02</td>\n",
       "    </tr>\n",
       "    <tr>\n",
       "      <td>2</td>\n",
       "      <td>3.355345</td>\n",
       "      <td>3.338157</td>\n",
       "      <td>0.348420</td>\n",
       "      <td>25:01</td>\n",
       "    </tr>\n",
       "    <tr>\n",
       "      <td>3</td>\n",
       "      <td>3.262223</td>\n",
       "      <td>3.303142</td>\n",
       "      <td>0.353294</td>\n",
       "      <td>24:58</td>\n",
       "    </tr>\n",
       "    <tr>\n",
       "      <td>4</td>\n",
       "      <td>3.191457</td>\n",
       "      <td>3.283236</td>\n",
       "      <td>0.356495</td>\n",
       "      <td>24:59</td>\n",
       "    </tr>\n",
       "    <tr>\n",
       "      <td>5</td>\n",
       "      <td>3.077539</td>\n",
       "      <td>3.275042</td>\n",
       "      <td>0.358157</td>\n",
       "      <td>25:02</td>\n",
       "    </tr>\n",
       "    <tr>\n",
       "      <td>6</td>\n",
       "      <td>3.009444</td>\n",
       "      <td>3.275616</td>\n",
       "      <td>0.358139</td>\n",
       "      <td>25:03</td>\n",
       "    </tr>\n",
       "    <tr>\n",
       "      <td>7</td>\n",
       "      <td>2.903677</td>\n",
       "      <td>3.286076</td>\n",
       "      <td>0.358206</td>\n",
       "      <td>25:05</td>\n",
       "    </tr>\n",
       "    <tr>\n",
       "      <td>8</td>\n",
       "      <td>2.837318</td>\n",
       "      <td>3.296849</td>\n",
       "      <td>0.357719</td>\n",
       "      <td>25:04</td>\n",
       "    </tr>\n",
       "    <tr>\n",
       "      <td>9</td>\n",
       "      <td>2.816616</td>\n",
       "      <td>3.304133</td>\n",
       "      <td>0.357191</td>\n",
       "      <td>25:02</td>\n",
       "    </tr>\n",
       "  </tbody>\n",
       "</table>"
      ],
      "text/plain": [
       "<IPython.core.display.HTML object>"
      ]
     },
     "metadata": {},
     "output_type": "display_data"
    }
   ],
   "source": [
    "learn.fit_one_cycle(10, 1e-3, moms=(0.8,0.7))"
   ]
  },
  {
   "cell_type": "code",
   "execution_count": 19,
   "metadata": {
    "colab": {},
    "colab_type": "code",
    "id": "ZYk9u8VBMUcg"
   },
   "outputs": [],
   "source": [
    "learn.save('fine_tuned')"
   ]
  },
  {
   "cell_type": "code",
   "execution_count": 20,
   "metadata": {
    "colab": {},
    "colab_type": "code",
    "id": "KrNmQvsDMnwG"
   },
   "outputs": [],
   "source": [
    "learn.load('fine_tuned');"
   ]
  },
  {
   "cell_type": "code",
   "execution_count": 21,
   "metadata": {
    "colab": {
     "base_uri": "https://localhost:8080/",
     "height": 71
    },
    "colab_type": "code",
    "executionInfo": {
     "elapsed": 404,
     "status": "ok",
     "timestamp": 1569535756118,
     "user": {
      "displayName": "Enrico Alemani",
      "photoUrl": "https://lh3.googleusercontent.com/a-/AAuE7mA4C8laWqMnKAOODQhP1RBcWqGjIz4S-56F60O1=s64",
      "userId": "18138561668109286622"
     },
     "user_tz": -60
    },
    "id": "-dGZsjllMj2L",
    "outputId": "c0938d6f-1cf2-4cef-cef6-8cb0703b0e20"
   },
   "outputs": [
    {
     "name": "stdout",
     "output_type": "stream",
     "text": [
      "I do not liked this restaurant because i 've been here on several occasions and have never been impressed . The food is good and the service is above average . If you are trying to avoid the crowds , the wait staff is not\n",
      "I do not liked this restaurant because i was so excited to try it for the first time , but i guess my expectations were high . We ordered the salad bar , which was cold and not good . The sushi was good ,\n"
     ]
    }
   ],
   "source": [
    "TEXT = \"I do not liked this restaurant because\"\n",
    "N_WORDS = 40\n",
    "N_SENTENCES = 2\n",
    "print(\"\\n\".join(learn.predict(TEXT, N_WORDS, temperature=0.76) for _ in range(N_SENTENCES)))"
   ]
  },
  {
   "cell_type": "code",
   "execution_count": 22,
   "metadata": {
    "colab": {},
    "colab_type": "code",
    "id": "Uh-B7zMjNxJF"
   },
   "outputs": [],
   "source": [
    "learn.save_encoder('fine_tuned_enc')"
   ]
  },
  {
   "cell_type": "markdown",
   "metadata": {
    "colab_type": "text",
    "id": "bqxiqSphY6il"
   },
   "source": [
    "## Classifier"
   ]
  },
  {
   "cell_type": "code",
   "execution_count": 23,
   "metadata": {
    "colab": {
     "base_uri": "https://localhost:8080/",
     "height": 142
    },
    "colab_type": "code",
    "executionInfo": {
     "elapsed": 1199,
     "status": "ok",
     "timestamp": 1569510992472,
     "user": {
      "displayName": "Enrico Alemani",
      "photoUrl": "https://lh3.googleusercontent.com/a-/AAuE7mA4C8laWqMnKAOODQhP1RBcWqGjIz4S-56F60O1=s64",
      "userId": "18138561668109286622"
     },
     "user_tz": -60
    },
    "id": "LGi2hmZ-JOB6",
    "outputId": "e3d92f7c-131f-496c-a618-4d76c81e74b8"
   },
   "outputs": [
    {
     "data": {
      "text/html": [
       "<div>\n",
       "<style scoped>\n",
       "    .dataframe tbody tr th:only-of-type {\n",
       "        vertical-align: middle;\n",
       "    }\n",
       "\n",
       "    .dataframe tbody tr th {\n",
       "        vertical-align: top;\n",
       "    }\n",
       "\n",
       "    .dataframe thead th {\n",
       "        text-align: right;\n",
       "    }\n",
       "</style>\n",
       "<table border=\"1\" class=\"dataframe\">\n",
       "  <thead>\n",
       "    <tr style=\"text-align: right;\">\n",
       "      <th></th>\n",
       "      <th>text</th>\n",
       "      <th>label</th>\n",
       "      <th>is_valid</th>\n",
       "    </tr>\n",
       "  </thead>\n",
       "  <tbody>\n",
       "    <tr>\n",
       "      <th>6575</th>\n",
       "      <td>after a shaky start (we were completely overwh...</td>\n",
       "      <td>N</td>\n",
       "      <td>False</td>\n",
       "    </tr>\n",
       "    <tr>\n",
       "      <th>9976</th>\n",
       "      <td>I adore this place! Their patio is absolutely ...</td>\n",
       "      <td>N</td>\n",
       "      <td>False</td>\n",
       "    </tr>\n",
       "    <tr>\n",
       "      <th>41784</th>\n",
       "      <td>There is a great quote from Maupin's \"Tales Of...</td>\n",
       "      <td>N</td>\n",
       "      <td>False</td>\n",
       "    </tr>\n",
       "  </tbody>\n",
       "</table>\n",
       "</div>"
      ],
      "text/plain": [
       "                                                    text label  is_valid\n",
       "6575   after a shaky start (we were completely overwh...     N     False\n",
       "9976   I adore this place! Their patio is absolutely ...     N     False\n",
       "41784  There is a great quote from Maupin's \"Tales Of...     N     False"
      ]
     },
     "execution_count": 23,
     "metadata": {},
     "output_type": "execute_result"
    }
   ],
   "source": [
    "# Change the order of the columns\n",
    "df = df[['text', 'label', 'is_valid']]\n",
    "df.head(3)"
   ]
  },
  {
   "cell_type": "code",
   "execution_count": 24,
   "metadata": {
    "colab": {},
    "colab_type": "code",
    "id": "5xmTSh9xY7pj"
   },
   "outputs": [],
   "source": [
    "data_clas = (TextList.from_df(df, path, cols=['text', 'label', 'is_valid'], vocab=data_lm.vocab)\n",
    "             #grab all the text files in path\n",
    "             .split_from_df()\n",
    "             #split by is_valid column (that only keeps 'train' and 'test' so no need to filter)\n",
    "             .label_from_df(cols='label')\n",
    "             #label them all with their folders\n",
    "             .databunch(bs=bs))\n",
    "\n",
    "#data_clas.save(path, 'data_clas.pkl')\n",
    "#data_clas"
   ]
  },
  {
   "cell_type": "code",
   "execution_count": 25,
   "metadata": {
    "colab": {
     "base_uri": "https://localhost:8080/",
     "height": 307
    },
    "colab_type": "code",
    "executionInfo": {
     "elapsed": 2140,
     "status": "error",
     "timestamp": 1569512213928,
     "user": {
      "displayName": "Enrico Alemani",
      "photoUrl": "https://lh3.googleusercontent.com/a-/AAuE7mA4C8laWqMnKAOODQhP1RBcWqGjIz4S-56F60O1=s64",
      "userId": "18138561668109286622"
     },
     "user_tz": -60
    },
    "id": "iTJtFo2VJtDT",
    "outputId": "265b492d-a171-4e36-a139-c1a6935a120a"
   },
   "outputs": [],
   "source": [
    "data_clas.save('data_clas.pkl')\n"
   ]
  },
  {
   "cell_type": "code",
   "execution_count": 26,
   "metadata": {
    "colab": {
     "base_uri": "https://localhost:8080/",
     "height": 306
    },
    "colab_type": "code",
    "executionInfo": {
     "elapsed": 5709,
     "status": "ok",
     "timestamp": 1569512249351,
     "user": {
      "displayName": "Enrico Alemani",
      "photoUrl": "https://lh3.googleusercontent.com/a-/AAuE7mA4C8laWqMnKAOODQhP1RBcWqGjIz4S-56F60O1=s64",
      "userId": "18138561668109286622"
     },
     "user_tz": -60
    },
    "id": "_aC8IWDkFb5U",
    "outputId": "dcf52258-7202-40f5-c175-6fdc22001537"
   },
   "outputs": [
    {
     "data": {
      "text/html": [
       "<table border=\"1\" class=\"dataframe\">\n",
       "  <thead>\n",
       "    <tr style=\"text-align: right;\">\n",
       "      <th>text</th>\n",
       "      <th>target</th>\n",
       "    </tr>\n",
       "  </thead>\n",
       "  <tbody>\n",
       "    <tr>\n",
       "      <td>xxbos i honestly hate this place . xxmaj let me preface this by saying ... i love beer . i love xxmaj belgian beer . i love the beers on their beer menu . i like food . i love going out to eat . i live in the city , and love the area where xxmaj hopleaf is located xxrep 4 . but i hate this place . i</td>\n",
       "      <td>N</td>\n",
       "    </tr>\n",
       "    <tr>\n",
       "      <td>xxbos xxmaj xxunk . xxmaj clearly , that is the demographic they want . xxmaj however , i wo n't hold that against the number of stars i give them . xxmaj immediately upon entering one of the servers had just sat down , but she popped right up and sat us . i wish she would have said that we were about to sit in xxunk central , but</td>\n",
       "      <td>N</td>\n",
       "    </tr>\n",
       "    <tr>\n",
       "      <td>xxbos xxmaj utterly fantastic . xxmaj we did the 9 course tasting menu . xxmaj they threw in three extra tastes , so we ended with 12 courses for $ 110 / person . xxup byob , no corkage fee . xxmaj we brought a half bottle of xxunk and a bottles of xxmaj vouvray and xxmaj pinot xxmaj noir . xxmaj atmosphere : xxmaj it is really just a</td>\n",
       "      <td>N</td>\n",
       "    </tr>\n",
       "    <tr>\n",
       "      <td>xxbos xxmaj be ye xxunk advised that , at xxmaj tru , xxup you also , and not only the food , are in the xxunk friend came through town and invited me along to xxmaj tru , where he had previously dined . xxmaj he promised me that this would be an ultimate experience . xxmaj he was right . xxmaj the dinner price was $ 140 -- apiece</td>\n",
       "      <td>Y</td>\n",
       "    </tr>\n",
       "    <tr>\n",
       "      <td>xxbos xxmaj medium place : it is not rare , but it certainly is n't well done . ( xxmaj ok , enough xxmaj xxunk &amp; xxmaj waldorf quotes . ) xxmaj went on 8 / 27 / 2012 , and not in a terrible rush to return . i will return for whiskey purposes . xxmaj as a scotch man , their menu is fair but excels mostly in</td>\n",
       "      <td>N</td>\n",
       "    </tr>\n",
       "  </tbody>\n",
       "</table>"
      ],
      "text/plain": [
       "<IPython.core.display.HTML object>"
      ]
     },
     "metadata": {},
     "output_type": "display_data"
    }
   ],
   "source": [
    "data_clas.show_batch()"
   ]
  },
  {
   "cell_type": "code",
   "execution_count": 8,
   "metadata": {
    "colab": {
     "base_uri": "https://localhost:8080/",
     "height": 324
    },
    "colab_type": "code",
    "executionInfo": {
     "elapsed": 741,
     "status": "error",
     "timestamp": 1569512399133,
     "user": {
      "displayName": "Enrico Alemani",
      "photoUrl": "https://lh3.googleusercontent.com/a-/AAuE7mA4C8laWqMnKAOODQhP1RBcWqGjIz4S-56F60O1=s64",
      "userId": "18138561668109286622"
     },
     "user_tz": -60
    },
    "id": "ap5CPFYDOo6O",
    "outputId": "783dac28-2fe7-4ebd-f59e-f9b71ff788d5"
   },
   "outputs": [
    {
     "data": {
      "text/plain": [
       "False"
      ]
     },
     "execution_count": 8,
     "metadata": {},
     "output_type": "execute_result"
    }
   ],
   "source": [
    "data_clas = load_data(path, 'data_clas.pkl', bs=bs)\n",
    "#len(data_clas.vocab.itos) == len(data_lm.vocab.itos)"
   ]
  },
  {
   "cell_type": "code",
   "execution_count": 9,
   "metadata": {
    "colab": {
     "base_uri": "https://localhost:8080/",
     "height": 324
    },
    "colab_type": "code",
    "executionInfo": {
     "elapsed": 1661,
     "status": "error",
     "timestamp": 1569512276711,
     "user": {
      "displayName": "Enrico Alemani",
      "photoUrl": "https://lh3.googleusercontent.com/a-/AAuE7mA4C8laWqMnKAOODQhP1RBcWqGjIz4S-56F60O1=s64",
      "userId": "18138561668109286622"
     },
     "user_tz": -60
    },
    "id": "8rJMdnOZETpW",
    "outputId": "3388a102-e34f-448a-b306-ee020dbb2a7d"
   },
   "outputs": [
    {
     "data": {
      "text/plain": [
       "RNNLearner(data=TextClasDataBunch;\n",
       "\n",
       "Train: LabelList (43076 items)\n",
       "x: TextList\n",
       "xxbos after a shaky start ( we were completely overwhelmed by our servers menu / wine / etc / etc / etc explanation that lasted several confusing minutes ) , davanti enoteca lived up to the hype . lovely warm & welcoming atmosphere , interesting wine menu displayed on a giant bottle , great vino prices , good menu variety , delicious food , friendly manager , and dessert on the house ... what more could you ask for ? we shared a communal table , enjoyed the farm - y ( aka home for me ) decor , and xxunk at all the adorable mini mason jars on our table and displayed around the place . all the dishes were delicious and easy enough to share . i would definitely go with people you know , who are n't afraid of your germs and wo n't smack your hand away from \" their \" plate ! do not skip dessert - we were lucky enough to be presented with 3 options to try . all were amazingly delicious and all were amazingly different ! i ca n't wait to enjoy the grape sorbet on a hot day on taylor ... summer 2011 - here 's to you ! n xxmaj false,xxbos i adore this place ! xxmaj their patio is absolutely lovely . i do n't use the word \" lovely \" that often , but that 's exactly what it is . xxmaj beautiful decor , busy yet intimate ... wonderful place for a date . xxmaj when you sit , you just kind of take a deep breath and take it all in . xxmaj sigh xxrep 4 . xxmaj the food was excellent as was the wine list . xxmaj the quatro formaggi pizza was a stand out ( we shared as an appetizer ) . xxmaj also , they have super tasty olive oi and vinegar on the table . xxmaj the olive oil was a bit pungent and at first i was a little overwhelmed with the smell as i walked in , but it was delicious . xxmaj overall , i would highly recommend to anyone looking for a great xxmaj italian meal . xxmaj we will be back for sure . n xxmaj false,xxbos xxmaj there is a great quote from xxmaj xxunk 's \" xxmaj tales xxmaj of xxmaj the xxmaj city \" : \" xxmaj in xxmaj new xxmaj york , you can have a great job , a great apartment and a great companion , but not all three \" . xxmaj port that to a restaurant context , and you have great food , great atmosphere , and great service . xxmaj so rare to get all three , and xxmaj gilt xxmaj bar certainly did n't prove to be the exception . xxmaj food - lovely . xxmaj nicely prepared , well - seasoned , and attractively presented . xxmaj that you can make my dining companion 's lack luster love of mussels fade for the night while we desperately order more bread to sop up the lemon broth is an achievement all in itself . xxmaj atmosphere - again , great . xxmaj just man - cave enough without being too dark to put everyone at ease , while still keeping heavy enough furnishings to reduce the overall noise so one can have a normal conversation without yelling . xxmaj service - horrible . xxmaj why at happy hour with only two other people at the bar and three employees actually at the bar i have to constantly call one over to refill my air - dried glass is beyond me . xxmaj if the bar experience had n't turned us off , the table service did . xxmaj she started off nice and all , but then promptly disappeared for such great lengths of time that it became necessary to just ask any server wandering by for even the most basic necessities - only to then have our server come back all put - out that we asked someone else for something . xxmaj really did a great job of xxunk the entire experience . xxmaj but i did start pointing out that you can have two of three , and as they did provide two , i 'll give it another go next time i 'm in town . xxmaj but everything else is n't so fabulous as to overcome bad service , so if my next round is like the first , i 'll be gilt free skipping this place . n xxmaj false,xxbos xxmaj walked down to xxup rj xxmaj grunts planning to get take - out , when i arrived the hostess directed me to the bartender . xxmaj after waiting for 15 - 20 minutes or so to get the bartenders attention ( the bar was busy but not packed ) , i inquired about the fish tacos that are their menu online but not in the store . xxmaj xxunk she informed me they are on longer on the menu , i then looked over the menu thinking i would order something different . xxmaj after a few more snotty remarks from the bartender when i asked about other items , she then disappeared . i then decided just to leave without any take - out , and having waited a good amount time just trying to place my order . xxup rj xxmaj grunts should not advertise doing take - out , if they do n't want to do it . i am not sure if the staff is supposed to be rude , but it was a very disappointing experience . i will not be returning . n xxmaj false,xxbos i really did n't want to write this review , especially because i truly admire chef xxmaj achatz , but i decided to share my experience , i think i earned the right at $ 400 a pop . i was beyond excited to try xxmaj alinea , dreaming about it for the last three years , so when i had the chance to fly to xxmaj chicago i immediately called to make a reservation . xxmaj they only had an opening on xxmaj sunday at 9:30pm - no problem , i 'll take it ! xxmaj one of the servers had a problem though - he seemed to be having a bad day , especially when we chose xxup not to get the wine pairing ( at $ 150 extra ) . xxmaj when you go to a 3 xxmaj michelin star restaurant you expect a magnificent and impeccable service , even if you get the 9:30pm xxmaj sunday slot - such service exists - i experienced it at xxmaj manresa ( a 2 star restaurant ) . xxmaj this guy seemed to have gotten offended that we did n't get the pairing , he then went on to give us a \" glass of champagne for us to try and to see if we changed our minds about the tasting - on the house \" . xxmaj we did n't , and he ended up charging for them ! xxmaj hence the 4 star rating for misleading patrons and for the bad mood . xxmaj besides that , the presentation was simply magnificent , well thought out , just incredible . i just wish i could re - experience it again with a great service , i 'm sure that it would 've tasted much better . n xxmaj false\n",
       "y: CategoryList\n",
       "N,N,N,N,N\n",
       "Path: data/Yelp;\n",
       "\n",
       "Valid: LabelList (18462 items)\n",
       "x: TextList\n",
       "xxbos xxmaj before i get started , everyone should vist xxmaj superdawg at least once . xxmaj this is a unique place and a one of a kind fast food restaurant . xxmaj it is a drive in , no not an old fashion movie drive in , a food drive in with car hops and a completely retro feel . xxmaj this place has been featured on countless xxup tv shows , magazine articles and newspapers . xxmaj again , you must visit this place at least once and decide for yourself . xxmaj that being said , the food is ok at worst and good at best . xxmaj they do n't use xxmaj vienna hot dogs and xxmaj vienna dogs are my favorite . xxmaj however , the dogs are good . xxmaj they are plump , served on a poppy seed bun and laying in a bed of crinkle cut fries . xxmaj the burgers on the other hand are just ok and are not that good . xxmaj they also have jumbo shrimp , which are good , served in a bed of fries on top of a hamburger bun with a pickle . xxmaj the shrimp are breaded , large , deep fried and may be the best thing here . a close runner up are the fries , which are crinkle cut and come with the dogs / burgers / shrimp . xxmaj the drinks cost extra - fountain pop or bottled water . i have not had desert here but they do have icecream . xxmaj as for the price , xxmaj super xxmaj dog is xxunk and has an xxup atm inside a small eating area . xxmaj keep in mind this place is almost always busy and has a line most of the time . xxmaj the service is good , fast and polite without any small talk . xxmaj now keep in mind xxmaj super xxmaj dog is not my favorite fast food place but i would highly recommend trying it for yourself . n xxmaj true,xxbos i went to this upscale grocery store , and boy oh boy , did this place win me over . xxmaj it 's not as pricy as everyone thinks because the quality matches the price . xxmaj for $ 15 i got 30 slices of 3 types of salami , 3 small blocks of gourmet imported cheeses , dried apricots and figs , and a crusty loaf of fresh french bread . xxmaj it was enough for 2 large charcuterie plates . xxmaj the cheese man was pretty knowledgeable and recommended some amazing cheeses based on what i told him i liked . n xxmaj true,xxbos xxmaj if i could make this notorious oatmeal shake then i would never leave the house ... xxmaj first off i have been here twice to dine in and i have ordered delivery from here as well . xxmaj all three times we a success . xxmaj we got two cheese and spinach empanadas , but this was a xxup big mistake , because we should have order about 10 ( you know some to take home possibly ? ) xxmaj next we got two steak pepito sandwhiches with cheese and peppers . xxmaj however , the waitor thought we only ordered one pepito sandwhich for me and my friend to share , and while i do appreciate him trying to help me watch my xxunk figure ... but i came here for a cheat day . xxmaj but all went well when booboo ( our waitor ) brought me this magical drink called an oatmeal shake . xxmaj he told us how he tried to reinvent this drink at home and failed miserably . wahh ! ? i can see why because that thing was amazing and coming from a xxunk individual this is a xxup huge compliment ! xxmaj meow , i will be back for my kitty oatmeal shake ! =) n xxmaj true,xxbos xxmaj damn good deep dish pizza . xxmaj thick , buttery crust , flavorful sauce , and tons of cheese . xxmaj can be a bit greasy , but ... mmm . n xxmaj true,xxbos xxmaj awesome concept ! xxmaj waiters come up to your table and offer you xxunk cute of meats from their giant xxunk ... when you ve had enough you flip over a wooden disk with red and green on each side to let them know if you d like more or if you need a break .the price fix meal also includes a big salad bar as well with many great selections xxunk also serve lunch which is a better value if you can make it in a little earlier .. n xxmaj true\n",
       "y: CategoryList\n",
       "N,N,N,N,N\n",
       "Path: data/Yelp;\n",
       "\n",
       "Test: None, model=SequentialRNN(\n",
       "  (0): MultiBatchEncoder(\n",
       "    (module): AWD_LSTM(\n",
       "      (encoder): Embedding(26256, 400, padding_idx=1)\n",
       "      (encoder_dp): EmbeddingDropout(\n",
       "        (emb): Embedding(26256, 400, padding_idx=1)\n",
       "      )\n",
       "      (rnns): ModuleList(\n",
       "        (0): WeightDropout(\n",
       "          (module): LSTM(400, 1152, batch_first=True)\n",
       "        )\n",
       "        (1): WeightDropout(\n",
       "          (module): LSTM(1152, 1152, batch_first=True)\n",
       "        )\n",
       "        (2): WeightDropout(\n",
       "          (module): LSTM(1152, 400, batch_first=True)\n",
       "        )\n",
       "      )\n",
       "      (input_dp): RNNDropout()\n",
       "      (hidden_dps): ModuleList(\n",
       "        (0): RNNDropout()\n",
       "        (1): RNNDropout()\n",
       "        (2): RNNDropout()\n",
       "      )\n",
       "    )\n",
       "  )\n",
       "  (1): PoolingLinearClassifier(\n",
       "    (layers): Sequential(\n",
       "      (0): BatchNorm1d(1200, eps=1e-05, momentum=0.1, affine=True, track_running_stats=True)\n",
       "      (1): Dropout(p=0.2, inplace=False)\n",
       "      (2): Linear(in_features=1200, out_features=50, bias=True)\n",
       "      (3): ReLU(inplace=True)\n",
       "      (4): BatchNorm1d(50, eps=1e-05, momentum=0.1, affine=True, track_running_stats=True)\n",
       "      (5): Dropout(p=0.1, inplace=False)\n",
       "      (6): Linear(in_features=50, out_features=2, bias=True)\n",
       "    )\n",
       "  )\n",
       "), opt_func=functools.partial(<class 'torch.optim.adam.Adam'>, betas=(0.9, 0.99)), loss_func=FlattenedLoss of CrossEntropyLoss(), metrics=[<function accuracy at 0x7f592049fae8>], true_wd=True, bn_wd=True, wd=0.01, train_bn=True, path=PosixPath('data/Yelp'), model_dir='models', callback_fns=[functools.partial(<class 'fastai.basic_train.Recorder'>, add_time=True, silent=False)], callbacks=[RNNTrainer\n",
       "learn: ...\n",
       "alpha: 2.0\n",
       "beta: 1.0], layer_groups=[Sequential(\n",
       "  (0): Embedding(26256, 400, padding_idx=1)\n",
       "  (1): EmbeddingDropout(\n",
       "    (emb): Embedding(26256, 400, padding_idx=1)\n",
       "  )\n",
       "), Sequential(\n",
       "  (0): WeightDropout(\n",
       "    (module): LSTM(400, 1152, batch_first=True)\n",
       "  )\n",
       "  (1): RNNDropout()\n",
       "), Sequential(\n",
       "  (0): WeightDropout(\n",
       "    (module): LSTM(1152, 1152, batch_first=True)\n",
       "  )\n",
       "  (1): RNNDropout()\n",
       "), Sequential(\n",
       "  (0): WeightDropout(\n",
       "    (module): LSTM(1152, 400, batch_first=True)\n",
       "  )\n",
       "  (1): RNNDropout()\n",
       "), Sequential(\n",
       "  (0): PoolingLinearClassifier(\n",
       "    (layers): Sequential(\n",
       "      (0): BatchNorm1d(1200, eps=1e-05, momentum=0.1, affine=True, track_running_stats=True)\n",
       "      (1): Dropout(p=0.2, inplace=False)\n",
       "      (2): Linear(in_features=1200, out_features=50, bias=True)\n",
       "      (3): ReLU(inplace=True)\n",
       "      (4): BatchNorm1d(50, eps=1e-05, momentum=0.1, affine=True, track_running_stats=True)\n",
       "      (5): Dropout(p=0.1, inplace=False)\n",
       "      (6): Linear(in_features=50, out_features=2, bias=True)\n",
       "    )\n",
       "  )\n",
       ")], add_time=True, silent=False)"
      ]
     },
     "execution_count": 9,
     "metadata": {},
     "output_type": "execute_result"
    }
   ],
   "source": [
    "learn = text_classifier_learner(data_clas, AWD_LSTM, drop_mult=0.5)\n",
    "learn.load_encoder('fine_tuned_enc');"
   ]
  },
  {
   "cell_type": "code",
   "execution_count": 10,
   "metadata": {
    "colab": {},
    "colab_type": "code",
    "id": "k-eBdSy9KG3r"
   },
   "outputs": [
    {
     "data": {
      "text/html": [],
      "text/plain": [
       "<IPython.core.display.HTML object>"
      ]
     },
     "metadata": {},
     "output_type": "display_data"
    },
    {
     "name": "stdout",
     "output_type": "stream",
     "text": [
      "LR Finder is complete, type {learner_name}.recorder.plot() to see the graph.\n"
     ]
    }
   ],
   "source": [
    "learn.lr_find()"
   ]
  },
  {
   "cell_type": "code",
   "execution_count": 11,
   "metadata": {
    "colab": {},
    "colab_type": "code",
    "id": "Z78nqDxEKG00"
   },
   "outputs": [
    {
     "data": {
      "image/png": "[encoded data removed]",
      "text/plain": [
       "<Figure size 432x288 with 1 Axes>"
      ]
     },
     "metadata": {
      "needs_background": "light"
     },
     "output_type": "display_data"
    }
   ],
   "source": [
    "learn.recorder.plot()"
   ]
  },
  {
   "cell_type": "code",
   "execution_count": 12,
   "metadata": {
    "colab": {},
    "colab_type": "code",
    "id": "gYvnKVY7KGxh"
   },
   "outputs": [
    {
     "data": {
      "text/html": [
       "<table border=\"1\" class=\"dataframe\">\n",
       "  <thead>\n",
       "    <tr style=\"text-align: left;\">\n",
       "      <th>epoch</th>\n",
       "      <th>train_loss</th>\n",
       "      <th>valid_loss</th>\n",
       "      <th>accuracy</th>\n",
       "      <th>time</th>\n",
       "    </tr>\n",
       "  </thead>\n",
       "  <tbody>\n",
       "    <tr>\n",
       "      <td>0</td>\n",
       "      <td>0.074298</td>\n",
       "      <td>0.037699</td>\n",
       "      <td>0.985159</td>\n",
       "      <td>07:08</td>\n",
       "    </tr>\n",
       "  </tbody>\n",
       "</table>"
      ],
      "text/plain": [
       "<IPython.core.display.HTML object>"
      ]
     },
     "metadata": {},
     "output_type": "display_data"
    }
   ],
   "source": [
    "learn.fit_one_cycle(1, 2e-2, moms=(0.8,0.7))"
   ]
  },
  {
   "cell_type": "code",
   "execution_count": 13,
   "metadata": {
    "colab": {},
    "colab_type": "code",
    "id": "wzxjg2W4KGts"
   },
   "outputs": [],
   "source": [
    "learn.save('first')"
   ]
  },
  {
   "cell_type": "code",
   "execution_count": 14,
   "metadata": {
    "colab": {},
    "colab_type": "code",
    "id": "jIpZjXZcKGoR"
   },
   "outputs": [],
   "source": [
    "learn.load('first');"
   ]
  },
  {
   "cell_type": "code",
   "execution_count": 15,
   "metadata": {},
   "outputs": [
    {
     "data": {
      "text/html": [
       "<table border=\"1\" class=\"dataframe\">\n",
       "  <thead>\n",
       "    <tr style=\"text-align: left;\">\n",
       "      <th>epoch</th>\n",
       "      <th>train_loss</th>\n",
       "      <th>valid_loss</th>\n",
       "      <th>accuracy</th>\n",
       "      <th>time</th>\n",
       "    </tr>\n",
       "  </thead>\n",
       "  <tbody>\n",
       "    <tr>\n",
       "      <td>0</td>\n",
       "      <td>0.000914</td>\n",
       "      <td>0.000111</td>\n",
       "      <td>1.000000</td>\n",
       "      <td>08:30</td>\n",
       "    </tr>\n",
       "  </tbody>\n",
       "</table>"
      ],
      "text/plain": [
       "<IPython.core.display.HTML object>"
      ]
     },
     "metadata": {},
     "output_type": "display_data"
    }
   ],
   "source": [
    "learn.freeze_to(-2)\n",
    "learn.fit_one_cycle(1, slice(1e-2/(2.6**4),1e-2), moms=(0.8,0.7))"
   ]
  },
  {
   "cell_type": "code",
   "execution_count": 16,
   "metadata": {},
   "outputs": [],
   "source": [
    "learn.save('second')"
   ]
  },
  {
   "cell_type": "code",
   "execution_count": 17,
   "metadata": {},
   "outputs": [],
   "source": [
    "learn.load('second');"
   ]
  },
  {
   "cell_type": "code",
   "execution_count": 18,
   "metadata": {},
   "outputs": [
    {
     "data": {
      "text/html": [
       "<table border=\"1\" class=\"dataframe\">\n",
       "  <thead>\n",
       "    <tr style=\"text-align: left;\">\n",
       "      <th>epoch</th>\n",
       "      <th>train_loss</th>\n",
       "      <th>valid_loss</th>\n",
       "      <th>accuracy</th>\n",
       "      <th>time</th>\n",
       "    </tr>\n",
       "  </thead>\n",
       "  <tbody>\n",
       "    <tr>\n",
       "      <td>0</td>\n",
       "      <td>0.000249</td>\n",
       "      <td>0.000011</td>\n",
       "      <td>1.000000</td>\n",
       "      <td>15:09</td>\n",
       "    </tr>\n",
       "  </tbody>\n",
       "</table>"
      ],
      "text/plain": [
       "<IPython.core.display.HTML object>"
      ]
     },
     "metadata": {},
     "output_type": "display_data"
    }
   ],
   "source": [
    "learn.freeze_to(-3)\n",
    "learn.fit_one_cycle(1, slice(5e-3/(2.6**4),5e-3), moms=(0.8,0.7))"
   ]
  },
  {
   "cell_type": "code",
   "execution_count": 19,
   "metadata": {},
   "outputs": [],
   "source": [
    "learn.save('third')"
   ]
  },
  {
   "cell_type": "code",
   "execution_count": 20,
   "metadata": {},
   "outputs": [],
   "source": [
    "learn.load('third');"
   ]
  },
  {
   "cell_type": "code",
   "execution_count": null,
   "metadata": {},
   "outputs": [],
   "source": [
    "learn.unfreeze()\n",
    "learn.fit_one_cycle(2, slice(1e-3/(2.6**4),1e-3), moms=(0.8,0.7))"
   ]
  },
  {
   "cell_type": "code",
   "execution_count": 21,
   "metadata": {},
   "outputs": [
    {
     "data": {
      "text/plain": [
       "(Category N, tensor(0), tensor([9.9913e-01, 8.7423e-04]))"
      ]
     },
     "execution_count": 21,
     "metadata": {},
     "output_type": "execute_result"
    }
   ],
   "source": [
    "learn.predict(\"I really loved that restaurant, it was awesome! Although the portions were a bit too small\")"
   ]
  },
  {
   "cell_type": "markdown",
   "metadata": {},
   "source": [
    "## Classification interpretation"
   ]
  },
  {
   "cell_type": "code",
   "execution_count": 22,
   "metadata": {},
   "outputs": [
    {
     "data": {
      "text/html": [
       "<table border=\"1\" class=\"dataframe\">\n",
       "  <thead>\n",
       "    <tr style=\"text-align: right;\">\n",
       "      <th>Text</th>\n",
       "      <th>Prediction</th>\n",
       "      <th>Actual</th>\n",
       "      <th>Loss</th>\n",
       "      <th>Probability</th>\n",
       "    </tr>\n",
       "  </thead>\n",
       "  <tbody>\n",
       "    <tr>\n",
       "      <td>xxbos i have been to xxmaj chicago three times in the last 4 months and have hit xxmaj mercat everytime ! xxmaj the food and service are both amazing . xxmaj the restaurant has a tapas - style menu , but the gem there is the chef 's selection where they bring out plate after plate of amazing food . xxmaj on this last visit , we had someone who</td>\n",
       "      <td>Y</td>\n",
       "      <td>N</td>\n",
       "      <td>0.07</td>\n",
       "      <td>0.07</td>\n",
       "    </tr>\n",
       "    <tr>\n",
       "      <td>xxbos xxmaj thanks to xxmaj the xxmaj purple xxmaj pig , i am on the hunt for exceptionally prepared pork . xxmaj my friends and i enjoyed the pig 's ear - crunch , well - flavored and very rich ! xxmaj we also tried the pork shoulder - it was like butter . xxmaj the seating allows you to socialize with other patrons and check out the selections they</td>\n",
       "      <td>Y</td>\n",
       "      <td>N</td>\n",
       "      <td>0.01</td>\n",
       "      <td>0.01</td>\n",
       "    </tr>\n",
       "    <tr>\n",
       "      <td>xxbos i was really excited to eat at xxmaj xoco on my most recent trip to xxmaj chicago , and it did not disappoint in any way . i will add at this point in my review that my hotel was just 2 blocks away . xxmaj when i walked into xxmaj xoco , the line was nearly out the door . i stood in it for about 2 minutes</td>\n",
       "      <td>N</td>\n",
       "      <td>N</td>\n",
       "      <td>0.01</td>\n",
       "      <td>0.99</td>\n",
       "    </tr>\n",
       "    <tr>\n",
       "      <td>xxbos xxmaj let 's cut to the entrees . xxmaj the 1 / 2 roasted duck ( xxunk arrosto ) and rosemary lamb ( xxmaj xxunk al xxunk ) was unsatisfactory . xxmaj the fennel sausage and polenta that accompanied the duck was quite nice but i did n't order this dish for the sides , did i ? xxmaj quite frankly , i would have been much happier with</td>\n",
       "      <td>N</td>\n",
       "      <td>N</td>\n",
       "      <td>0.00</td>\n",
       "      <td>1.00</td>\n",
       "    </tr>\n",
       "    <tr>\n",
       "      <td>xxbos i love this place . xxmaj its like the smaller , less crowded version of xxmaj kuma 's that lives in my memories only . xxmaj so , there is obvious similarity to the food ( big delicious burgers on pretzel buns ) between xxmaj lockdown and xxmaj kuma 's , but by virtue of the details i have to say i slightly prefer xxmaj lockdown . i used</td>\n",
       "      <td>Y</td>\n",
       "      <td>N</td>\n",
       "      <td>0.00</td>\n",
       "      <td>0.00</td>\n",
       "    </tr>\n",
       "  </tbody>\n",
       "</table>"
      ],
      "text/plain": [
       "<IPython.core.display.HTML object>"
      ]
     },
     "metadata": {},
     "output_type": "display_data"
    }
   ],
   "source": [
    "# Tabulation showing the first k texts in top_losses along with their prediction, actual,loss, \n",
    "# and probability of actual class. max_len is the maximum number of tokens displayed. \n",
    "# If max_len=None, it will display all tokens.\n",
    "txt_ci = TextClassificationInterpretation.from_learner(learn)\n",
    "txt_ci.show_top_losses(5)"
   ]
  },
  {
   "cell_type": "markdown",
   "metadata": {},
   "source": [
    "### Sequential Jacobian"
   ]
  },
  {
   "cell_type": "code",
   "execution_count": null,
   "metadata": {},
   "outputs": [],
   "source": [
    "test_text = \"I really loved that restaurant, it was awesome! Although the portions were a bit too small\"\n",
    "txt_ci.show_intrinsic_attention(test_text,cmap=cm.Purples)"
   ]
  },
  {
   "cell_type": "code",
   "execution_count": null,
   "metadata": {},
   "outputs": [],
   "source": [
    "# Raw attention values\n",
    "txt_ci.intrinsic_attention(test_text)[1]"
   ]
  },
  {
   "cell_type": "markdown",
   "metadata": {},
   "source": [
    "### Review pertubations (approach similar to Lime)"
   ]
  },
  {
   "cell_type": "code",
   "execution_count": null,
   "metadata": {},
   "outputs": [],
   "source": []
  },
  {
   "cell_type": "code",
   "execution_count": null,
   "metadata": {},
   "outputs": [],
   "source": [
    "# fin"
   ]
  }
 ],
 "metadata": {
  "accelerator": "GPU",
  "colab": {
   "collapsed_sections": [],
   "name": "YelpChi.ipynb",
   "provenance": []
  },
  "kernelspec": {
   "display_name": "Python 3",
   "language": "python",
   "name": "python3"
  },
  "language_info": {
   "codemirror_mode": {
    "name": "ipython",
    "version": 3
   },
   "file_extension": ".py",
   "mimetype": "text/x-python",
   "name": "python",
   "nbconvert_exporter": "python",
   "pygments_lexer": "ipython3",
   "version": "3.7.3"
  }
 },
 "nbformat": 4,
 "nbformat_minor": 4
}
