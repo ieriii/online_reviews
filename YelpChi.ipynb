{
 "cells": [
  {
   "cell_type": "code",
   "execution_count": 1,
   "metadata": {
    "colab": {},
    "colab_type": "code",
    "id": "aynx8F6O1fIN"
   },
   "outputs": [],
   "source": [
    "from fastai.text import *\n",
    "import pandas as pd\n",
    "from sklearn.model_selection import train_test_split"
   ]
  },
  {
   "cell_type": "code",
   "execution_count": 2,
   "metadata": {
    "colab": {
     "base_uri": "https://localhost:8080/",
     "height": 142
    },
    "colab_type": "code",
    "executionInfo": {
     "elapsed": 8317,
     "status": "ok",
     "timestamp": 1569527447073,
     "user": {
      "displayName": "Enrico Alemani",
      "photoUrl": "https://lh3.googleusercontent.com/a-/AAuE7mA4C8laWqMnKAOODQhP1RBcWqGjIz4S-56F60O1=s64",
      "userId": "18138561668109286622"
     },
     "user_tz": -60
    },
    "id": "7y-ASrK61qE9",
    "outputId": "3ee11c2c-ff80-4802-e068-f50b4a0c23ef"
   },
   "outputs": [
    {
     "data": {
      "text/html": [
       "<div>\n",
       "<style scoped>\n",
       "    .dataframe tbody tr th:only-of-type {\n",
       "        vertical-align: middle;\n",
       "    }\n",
       "\n",
       "    .dataframe tbody tr th {\n",
       "        vertical-align: top;\n",
       "    }\n",
       "\n",
       "    .dataframe thead th {\n",
       "        text-align: right;\n",
       "    }\n",
       "</style>\n",
       "<table border=\"1\" class=\"dataframe\">\n",
       "  <thead>\n",
       "    <tr style=\"text-align: right;\">\n",
       "      <th></th>\n",
       "      <th>0</th>\n",
       "      <th>1</th>\n",
       "      <th>2</th>\n",
       "      <th>3</th>\n",
       "      <th>4</th>\n",
       "      <th>5</th>\n",
       "      <th>6</th>\n",
       "      <th>7</th>\n",
       "      <th>8</th>\n",
       "    </tr>\n",
       "  </thead>\n",
       "  <tbody>\n",
       "    <tr>\n",
       "      <th>0</th>\n",
       "      <td>9/22/2012</td>\n",
       "      <td>GtwU21YOQn-wf4vWRUIx6w</td>\n",
       "      <td>bNYesZ944s6IJVowOnB0iA</td>\n",
       "      <td>pbEiXam9YJL3neCYHGwLUA</td>\n",
       "      <td>N</td>\n",
       "      <td>0</td>\n",
       "      <td>0</td>\n",
       "      <td>0</td>\n",
       "      <td>5</td>\n",
       "    </tr>\n",
       "    <tr>\n",
       "      <th>1</th>\n",
       "      <td>9/22/2012</td>\n",
       "      <td>0LpVTc3</td>\n",
       "      <td>TRKxLC3y-ZvP45e5iilMtw</td>\n",
       "      <td>pbEiXam9YJL3neCYHGwLUA</td>\n",
       "      <td>N</td>\n",
       "      <td>0</td>\n",
       "      <td>0</td>\n",
       "      <td>0</td>\n",
       "      <td>5</td>\n",
       "    </tr>\n",
       "    <tr>\n",
       "      <th>2</th>\n",
       "      <td>9/19/2012</td>\n",
       "      <td>tljtLzf68Fkwf</td>\n",
       "      <td>0EMm8umAqXZzyhxNpL4M9g</td>\n",
       "      <td>pbEiXam9YJL3neCYHGwLUA</td>\n",
       "      <td>N</td>\n",
       "      <td>0</td>\n",
       "      <td>0</td>\n",
       "      <td>2</td>\n",
       "      <td>3</td>\n",
       "    </tr>\n",
       "  </tbody>\n",
       "</table>\n",
       "</div>"
      ],
      "text/plain": [
       "           0                       1                       2  \\\n",
       "0  9/22/2012  GtwU21YOQn-wf4vWRUIx6w  bNYesZ944s6IJVowOnB0iA   \n",
       "1  9/22/2012                 0LpVTc3  TRKxLC3y-ZvP45e5iilMtw   \n",
       "2  9/19/2012           tljtLzf68Fkwf  0EMm8umAqXZzyhxNpL4M9g   \n",
       "\n",
       "                        3  4  5  6  7  8  \n",
       "0  pbEiXam9YJL3neCYHGwLUA  N  0  0  0  5  \n",
       "1  pbEiXam9YJL3neCYHGwLUA  N  0  0  0  5  \n",
       "2  pbEiXam9YJL3neCYHGwLUA  N  0  0  2  3  "
      ]
     },
     "execution_count": 2,
     "metadata": {},
     "output_type": "execute_result"
    }
   ],
   "source": [
    "path = 'data/Yelp/'\n",
    "df_meta = pd.read_csv(path+'output_meta_yelpResData_NRYRcleaned.txt', sep=' ', header=None)\n",
    "\n",
    "df_meta.head(3)"
   ]
  },
  {
   "cell_type": "code",
   "execution_count": 3,
   "metadata": {
    "colab": {
     "base_uri": "https://localhost:8080/",
     "height": 142
    },
    "colab_type": "code",
    "executionInfo": {
     "elapsed": 11267,
     "status": "ok",
     "timestamp": 1569527450271,
     "user": {
      "displayName": "Enrico Alemani",
      "photoUrl": "https://lh3.googleusercontent.com/a-/AAuE7mA4C8laWqMnKAOODQhP1RBcWqGjIz4S-56F60O1=s64",
      "userId": "18138561668109286622"
     },
     "user_tz": -60
    },
    "id": "f0Wn2hg_2eAV",
    "outputId": "53ecbea8-5728-454a-b5e7-254e3088bede"
   },
   "outputs": [
    {
     "data": {
      "text/html": [
       "<div>\n",
       "<style scoped>\n",
       "    .dataframe tbody tr th:only-of-type {\n",
       "        vertical-align: middle;\n",
       "    }\n",
       "\n",
       "    .dataframe tbody tr th {\n",
       "        vertical-align: top;\n",
       "    }\n",
       "\n",
       "    .dataframe thead th {\n",
       "        text-align: right;\n",
       "    }\n",
       "</style>\n",
       "<table border=\"1\" class=\"dataframe\">\n",
       "  <thead>\n",
       "    <tr style=\"text-align: right;\">\n",
       "      <th></th>\n",
       "      <th>0</th>\n",
       "    </tr>\n",
       "  </thead>\n",
       "  <tbody>\n",
       "    <tr>\n",
       "      <th>0</th>\n",
       "      <td>Unlike Next, which we'd eaten at the previous ...</td>\n",
       "    </tr>\n",
       "    <tr>\n",
       "      <th>1</th>\n",
       "      <td>Probably one of the best meals I've had ever. ...</td>\n",
       "    </tr>\n",
       "    <tr>\n",
       "      <th>2</th>\n",
       "      <td>Service was impeccable. Experience and present...</td>\n",
       "    </tr>\n",
       "  </tbody>\n",
       "</table>\n",
       "</div>"
      ],
      "text/plain": [
       "                                                   0\n",
       "0  Unlike Next, which we'd eaten at the previous ...\n",
       "1  Probably one of the best meals I've had ever. ...\n",
       "2  Service was impeccable. Experience and present..."
      ]
     },
     "execution_count": 3,
     "metadata": {},
     "output_type": "execute_result"
    }
   ],
   "source": [
    "df_reviews = pd.read_csv(path+'output_review_yelpResData_NRYRcleaned.txt', sep='\\r', header=None)\n",
    "df_reviews.head(3)"
   ]
  },
  {
   "cell_type": "code",
   "execution_count": 4,
   "metadata": {
    "colab": {},
    "colab_type": "code",
    "id": "M19nfJXm2i6h"
   },
   "outputs": [],
   "source": [
    "df_meta_reviews = pd.merge(df_meta, df_reviews, left_index=True, right_index=True)\n",
    "df_meta_reviews = df_meta_reviews.rename(columns={'0_x': 'date', 1: 'id', 2: 'id2', 3: 'id3', 4:'label', '0_y': 'text'})\n",
    "df_meta_reviews = df_meta_reviews[['label', 'text']]"
   ]
  },
  {
   "cell_type": "code",
   "execution_count": 5,
   "metadata": {
    "colab": {
     "base_uri": "https://localhost:8080/",
     "height": 142
    },
    "colab_type": "code",
    "executionInfo": {
     "elapsed": 10607,
     "status": "ok",
     "timestamp": 1569527450274,
     "user": {
      "displayName": "Enrico Alemani",
      "photoUrl": "https://lh3.googleusercontent.com/a-/AAuE7mA4C8laWqMnKAOODQhP1RBcWqGjIz4S-56F60O1=s64",
      "userId": "18138561668109286622"
     },
     "user_tz": -60
    },
    "id": "Ej4UmLy-5gNK",
    "outputId": "c0a94e48-363a-4462-a380-3ee8380aaae4"
   },
   "outputs": [
    {
     "data": {
      "text/html": [
       "<div>\n",
       "<style scoped>\n",
       "    .dataframe tbody tr th:only-of-type {\n",
       "        vertical-align: middle;\n",
       "    }\n",
       "\n",
       "    .dataframe tbody tr th {\n",
       "        vertical-align: top;\n",
       "    }\n",
       "\n",
       "    .dataframe thead th {\n",
       "        text-align: right;\n",
       "    }\n",
       "</style>\n",
       "<table border=\"1\" class=\"dataframe\">\n",
       "  <thead>\n",
       "    <tr style=\"text-align: right;\">\n",
       "      <th></th>\n",
       "      <th>label</th>\n",
       "      <th>text</th>\n",
       "    </tr>\n",
       "  </thead>\n",
       "  <tbody>\n",
       "    <tr>\n",
       "      <th>0</th>\n",
       "      <td>N</td>\n",
       "      <td>Unlike Next, which we'd eaten at the previous ...</td>\n",
       "    </tr>\n",
       "    <tr>\n",
       "      <th>1</th>\n",
       "      <td>N</td>\n",
       "      <td>Probably one of the best meals I've had ever. ...</td>\n",
       "    </tr>\n",
       "    <tr>\n",
       "      <th>2</th>\n",
       "      <td>N</td>\n",
       "      <td>Service was impeccable. Experience and present...</td>\n",
       "    </tr>\n",
       "  </tbody>\n",
       "</table>\n",
       "</div>"
      ],
      "text/plain": [
       "  label                                               text\n",
       "0     N  Unlike Next, which we'd eaten at the previous ...\n",
       "1     N  Probably one of the best meals I've had ever. ...\n",
       "2     N  Service was impeccable. Experience and present..."
      ]
     },
     "execution_count": 5,
     "metadata": {},
     "output_type": "execute_result"
    }
   ],
   "source": [
    "df_meta_reviews.head(3)"
   ]
  },
  {
   "cell_type": "code",
   "execution_count": 6,
   "metadata": {},
   "outputs": [],
   "source": [
    "# Downsample majority class (random undersampling)\n",
    "df_majority = df_meta_reviews[df_meta_reviews.label == 'N']\n",
    "df_minority = df_meta_reviews[df_meta_reviews.label == 'Y']\n"
   ]
  },
  {
   "cell_type": "code",
   "execution_count": 7,
   "metadata": {},
   "outputs": [],
   "source": [
    "from sklearn.utils import resample\n",
    "df_majority_downsampled = resample(df_majority, \n",
    "                                 replace=False,    # sample without replacement\n",
    "                                 n_samples= len(df_minority),     # to match minority class\n",
    "                                 random_state=123) # reproducible results"
   ]
  },
  {
   "cell_type": "code",
   "execution_count": 8,
   "metadata": {},
   "outputs": [],
   "source": [
    "df_downsampled = pd.concat([df_majority_downsampled, df_minority])"
   ]
  },
  {
   "cell_type": "code",
   "execution_count": 9,
   "metadata": {},
   "outputs": [
    {
     "name": "stderr",
     "output_type": "stream",
     "text": [
      "/home/ubuntu/anaconda3/lib/python3.7/site-packages/ipykernel_launcher.py:8: SettingWithCopyWarning: \n",
      "A value is trying to be set on a copy of a slice from a DataFrame.\n",
      "Try using .loc[row_indexer,col_indexer] = value instead\n",
      "\n",
      "See the caveats in the documentation: http://pandas.pydata.org/pandas-docs/stable/indexing.html#indexing-view-versus-copy\n",
      "  \n",
      "/home/ubuntu/anaconda3/lib/python3.7/site-packages/ipykernel_launcher.py:9: SettingWithCopyWarning: \n",
      "A value is trying to be set on a copy of a slice from a DataFrame.\n",
      "Try using .loc[row_indexer,col_indexer] = value instead\n",
      "\n",
      "See the caveats in the documentation: http://pandas.pydata.org/pandas-docs/stable/indexing.html#indexing-view-versus-copy\n",
      "  if __name__ == '__main__':\n"
     ]
    }
   ],
   "source": [
    "# Create training and validation split of data (it keeps the same % as in the original dataset)\n",
    "X_train, X_test, y_train, y_test = train_test_split(df_downsampled, df_downsampled['label'], test_size=0.3, random_state=0, stratify=df_downsampled['label'])\n",
    "\n",
    "# Check split\n",
    "#X_train[['label', 'text']].groupby(['label']).agg(['count'])\n",
    "\n",
    "# Generate bool is_valid to flag validiation\n",
    "X_train['is_valid'] = False\n",
    "X_test['is_valid'] = True\n",
    "\n",
    "# Generate final dataset\n",
    "df = X_train.append(X_test)"
   ]
  },
  {
   "cell_type": "markdown",
   "metadata": {
    "colab_type": "text",
    "id": "gqkuapDvZHqL"
   },
   "source": [
    "## Language model"
   ]
  },
  {
   "cell_type": "code",
   "execution_count": 10,
   "metadata": {
    "colab": {},
    "colab_type": "code",
    "id": "fzf8trzp7P3f"
   },
   "outputs": [],
   "source": [
    "#data_lm = TextLMDataBunch.from_df(path=path, \n",
    "#                                  train_df=df,\n",
    "#                                  valid_df=df,\n",
    "#                                  label_cols='label',\n",
    "#                                  text_cols='text')\n",
    "\n",
    "bs = 48\n",
    "data_lm = (TextList.from_df(df, path, cols='text')\n",
    "         .split_by_rand_pct(0.1)\n",
    "         .label_for_lm()\n",
    "         .databunch(bs=bs))"
   ]
  },
  {
   "cell_type": "code",
   "execution_count": 11,
   "metadata": {
    "colab": {},
    "colab_type": "code",
    "id": "5hUNsYTo9znO"
   },
   "outputs": [],
   "source": [
    "data_lm.save('YelpChi_lm.pkl')"
   ]
  },
  {
   "cell_type": "code",
   "execution_count": 12,
   "metadata": {
    "colab": {},
    "colab_type": "code",
    "id": "ECLCZ4TqDJ3h"
   },
   "outputs": [],
   "source": [
    "data_lm = load_data(path, 'YelpChi_lm.pkl', bs=bs)"
   ]
  },
  {
   "cell_type": "code",
   "execution_count": 13,
   "metadata": {
    "colab": {
     "base_uri": "https://localhost:8080/",
     "height": 306
    },
    "colab_type": "code",
    "executionInfo": {
     "elapsed": 76659,
     "status": "ok",
     "timestamp": 1569527517714,
     "user": {
      "displayName": "Enrico Alemani",
      "photoUrl": "https://lh3.googleusercontent.com/a-/AAuE7mA4C8laWqMnKAOODQhP1RBcWqGjIz4S-56F60O1=s64",
      "userId": "18138561668109286622"
     },
     "user_tz": -60
    },
    "id": "deUqTJbwEP41",
    "outputId": "282e537c-f96b-4f7a-b627-2904bccf0566"
   },
   "outputs": [
    {
     "data": {
      "text/html": [
       "<table border=\"1\" class=\"dataframe\">\n",
       "  <thead>\n",
       "    <tr style=\"text-align: right;\">\n",
       "      <th>idx</th>\n",
       "      <th>text</th>\n",
       "    </tr>\n",
       "  </thead>\n",
       "  <tbody>\n",
       "    <tr>\n",
       "      <td>0</td>\n",
       "      <td>, well you can xxunk one and see why rick is the master ! xxup fact : you have nt lived til you ve had bean to cup hot cocoa -it will give you xxunk g spot xxunk . i miss this place greatly in xxup nyc xxbos xxmaj my country friends decided they wanted to try a xxmaj chicago hot dog ... so i figured why not , i</td>\n",
       "    </tr>\n",
       "    <tr>\n",
       "      <td>1</td>\n",
       "      <td>this place is xxup bossy . xxmaj strolled in at around 9 p.m. and waited for about 20 minutes . xxmaj they initially tried to seat us at the tables where you sit cross xxunk , but being that xxmaj coco is xxunk \" and meaty ... he was n't built to fit under the table with the rest of us . xxmaj he also has never been able to</td>\n",
       "    </tr>\n",
       "    <tr>\n",
       "      <td>2</td>\n",
       "      <td>the restaurant , we had to be careful what table we sat at because the air conditioner was dripping on almost all the booths in front ... kind of weird . xxmaj however , i paid five whole dollars for some solid food ! xxbos i go to xxmaj fox &amp; xxmaj obel on a regular basis because it 's right across the street from where i work . xxmaj</td>\n",
       "    </tr>\n",
       "    <tr>\n",
       "      <td>3</td>\n",
       "      <td>unique setup with three levels . xxmaj the service sucks . xxmaj the food is really good , and the variety of mix of odd ingredients is a surprise for a sports bar . xxbos xxmaj this place rules . xxmaj really . i mean , it xxunk and probably one of my best dining experiences i have had in a while . i came here with a group of</td>\n",
       "    </tr>\n",
       "    <tr>\n",
       "      <td>4</td>\n",
       "      <td>to drink . xxmaj as its early in the morning i would love to get that first cup of coffee . i have sat at the bar once and booths the other times and always had to wait like 10 mins to get some service and one time had to ask the hostess to send me a server . i will continue going to this place cause the xxmaj people</td>\n",
       "    </tr>\n",
       "  </tbody>\n",
       "</table>"
      ],
      "text/plain": [
       "<IPython.core.display.HTML object>"
      ]
     },
     "metadata": {},
     "output_type": "display_data"
    }
   ],
   "source": [
    "data_lm.show_batch()"
   ]
  },
  {
   "cell_type": "code",
   "execution_count": 14,
   "metadata": {
    "colab": {},
    "colab_type": "code",
    "id": "-1ineAAdGUqg"
   },
   "outputs": [],
   "source": [
    "learn = language_model_learner(data_lm, AWD_LSTM, drop_mult=0.3)"
   ]
  },
  {
   "cell_type": "code",
   "execution_count": 15,
   "metadata": {
    "colab": {
     "base_uri": "https://localhost:8080/",
     "height": 34
    },
    "colab_type": "code",
    "executionInfo": {
     "elapsed": 104456,
     "status": "ok",
     "timestamp": 1569527550340,
     "user": {
      "displayName": "Enrico Alemani",
      "photoUrl": "https://lh3.googleusercontent.com/a-/AAuE7mA4C8laWqMnKAOODQhP1RBcWqGjIz4S-56F60O1=s64",
      "userId": "18138561668109286622"
     },
     "user_tz": -60
    },
    "id": "GKgl5F0iGYOj",
    "outputId": "3b33d72f-5236-4fb9-a3fe-6edf5175d376"
   },
   "outputs": [
    {
     "data": {
      "text/html": [],
      "text/plain": [
       "<IPython.core.display.HTML object>"
      ]
     },
     "metadata": {},
     "output_type": "display_data"
    },
    {
     "name": "stdout",
     "output_type": "stream",
     "text": [
      "LR Finder is complete, type {learner_name}.recorder.plot() to see the graph.\n"
     ]
    }
   ],
   "source": [
    "learn.lr_find()"
   ]
  },
  {
   "cell_type": "code",
   "execution_count": 16,
   "metadata": {
    "colab": {
     "base_uri": "https://localhost:8080/",
     "height": 283
    },
    "colab_type": "code",
    "executionInfo": {
     "elapsed": 77981,
     "status": "ok",
     "timestamp": 1569527550803,
     "user": {
      "displayName": "Enrico Alemani",
      "photoUrl": "https://lh3.googleusercontent.com/a-/AAuE7mA4C8laWqMnKAOODQhP1RBcWqGjIz4S-56F60O1=s64",
      "userId": "18138561668109286622"
     },
     "user_tz": -60
    },
    "id": "dygDy8X0GeJF",
    "outputId": "efefa0b6-f0e8-4f0e-8c34-72b2e614fd91"
   },
   "outputs": [
    {
     "data": {
      "image/png": "[encoded data removed]",
      "text/plain": [
       "<Figure size 432x288 with 1 Axes>"
      ]
     },
     "metadata": {
      "needs_background": "light"
     },
     "output_type": "display_data"
    }
   ],
   "source": [
    "#learn.recorder.plot(skip_end=15)\n",
    "learn.recorder.plot()"
   ]
  },
  {
   "cell_type": "code",
   "execution_count": 17,
   "metadata": {
    "colab": {
     "base_uri": "https://localhost:8080/",
     "height": 80
    },
    "colab_type": "code",
    "executionInfo": {
     "elapsed": 700574,
     "status": "ok",
     "timestamp": 1569528174278,
     "user": {
      "displayName": "Enrico Alemani",
      "photoUrl": "https://lh3.googleusercontent.com/a-/AAuE7mA4C8laWqMnKAOODQhP1RBcWqGjIz4S-56F60O1=s64",
      "userId": "18138561668109286622"
     },
     "user_tz": -60
    },
    "id": "zE-5IOkqHAho",
    "outputId": "0b280101-df63-4f4c-ac5d-7accc73688cf"
   },
   "outputs": [
    {
     "data": {
      "text/html": [
       "<table border=\"1\" class=\"dataframe\">\n",
       "  <thead>\n",
       "    <tr style=\"text-align: left;\">\n",
       "      <th>epoch</th>\n",
       "      <th>train_loss</th>\n",
       "      <th>valid_loss</th>\n",
       "      <th>accuracy</th>\n",
       "      <th>time</th>\n",
       "    </tr>\n",
       "  </thead>\n",
       "  <tbody>\n",
       "    <tr>\n",
       "      <td>0</td>\n",
       "      <td>3.853192</td>\n",
       "      <td>3.731196</td>\n",
       "      <td>0.295968</td>\n",
       "      <td>03:38</td>\n",
       "    </tr>\n",
       "  </tbody>\n",
       "</table>"
      ],
      "text/plain": [
       "<IPython.core.display.HTML object>"
      ]
     },
     "metadata": {},
     "output_type": "display_data"
    }
   ],
   "source": [
    "learn.fit_one_cycle(1, 1e-2, moms=(0.8,0.7))"
   ]
  },
  {
   "cell_type": "code",
   "execution_count": 18,
   "metadata": {
    "colab": {},
    "colab_type": "code",
    "id": "brptw8ZXHMBA"
   },
   "outputs": [],
   "source": [
    "learn.save('fit_head')"
   ]
  },
  {
   "cell_type": "code",
   "execution_count": 19,
   "metadata": {
    "colab": {},
    "colab_type": "code",
    "id": "TY6iFP65J0BD"
   },
   "outputs": [],
   "source": [
    "learn.load('fit_head');"
   ]
  },
  {
   "cell_type": "code",
   "execution_count": 20,
   "metadata": {
    "colab": {},
    "colab_type": "code",
    "id": "WSoZMPl-J2cY"
   },
   "outputs": [],
   "source": [
    "learn.unfreeze()"
   ]
  },
  {
   "cell_type": "code",
   "execution_count": 21,
   "metadata": {
    "colab": {
     "base_uri": "https://localhost:8080/",
     "height": 267
    },
    "colab_type": "code",
    "executionInfo": {
     "elapsed": 3683295,
     "status": "ok",
     "timestamp": 1569535748305,
     "user": {
      "displayName": "Enrico Alemani",
      "photoUrl": "https://lh3.googleusercontent.com/a-/AAuE7mA4C8laWqMnKAOODQhP1RBcWqGjIz4S-56F60O1=s64",
      "userId": "18138561668109286622"
     },
     "user_tz": -60
    },
    "id": "KjNDbGBhMSOK",
    "outputId": "6f21ccc1-ea5c-415e-fee2-5c16ea6eb830"
   },
   "outputs": [
    {
     "data": {
      "text/html": [
       "<table border=\"1\" class=\"dataframe\">\n",
       "  <thead>\n",
       "    <tr style=\"text-align: left;\">\n",
       "      <th>epoch</th>\n",
       "      <th>train_loss</th>\n",
       "      <th>valid_loss</th>\n",
       "      <th>accuracy</th>\n",
       "      <th>time</th>\n",
       "    </tr>\n",
       "  </thead>\n",
       "  <tbody>\n",
       "    <tr>\n",
       "      <td>0</td>\n",
       "      <td>3.609281</td>\n",
       "      <td>3.622452</td>\n",
       "      <td>0.309528</td>\n",
       "      <td>04:25</td>\n",
       "    </tr>\n",
       "    <tr>\n",
       "      <td>1</td>\n",
       "      <td>3.492683</td>\n",
       "      <td>3.539945</td>\n",
       "      <td>0.318321</td>\n",
       "      <td>04:25</td>\n",
       "    </tr>\n",
       "    <tr>\n",
       "      <td>2</td>\n",
       "      <td>3.399417</td>\n",
       "      <td>3.484339</td>\n",
       "      <td>0.324607</td>\n",
       "      <td>04:26</td>\n",
       "    </tr>\n",
       "    <tr>\n",
       "      <td>3</td>\n",
       "      <td>3.252902</td>\n",
       "      <td>3.459003</td>\n",
       "      <td>0.327972</td>\n",
       "      <td>04:26</td>\n",
       "    </tr>\n",
       "    <tr>\n",
       "      <td>4</td>\n",
       "      <td>3.085050</td>\n",
       "      <td>3.471737</td>\n",
       "      <td>0.327754</td>\n",
       "      <td>04:26</td>\n",
       "    </tr>\n",
       "    <tr>\n",
       "      <td>5</td>\n",
       "      <td>2.901996</td>\n",
       "      <td>3.503481</td>\n",
       "      <td>0.326945</td>\n",
       "      <td>04:25</td>\n",
       "    </tr>\n",
       "    <tr>\n",
       "      <td>6</td>\n",
       "      <td>2.722019</td>\n",
       "      <td>3.547701</td>\n",
       "      <td>0.323786</td>\n",
       "      <td>04:25</td>\n",
       "    </tr>\n",
       "    <tr>\n",
       "      <td>7</td>\n",
       "      <td>2.575645</td>\n",
       "      <td>3.594026</td>\n",
       "      <td>0.321286</td>\n",
       "      <td>04:28</td>\n",
       "    </tr>\n",
       "    <tr>\n",
       "      <td>8</td>\n",
       "      <td>2.459366</td>\n",
       "      <td>3.629600</td>\n",
       "      <td>0.319508</td>\n",
       "      <td>04:30</td>\n",
       "    </tr>\n",
       "    <tr>\n",
       "      <td>9</td>\n",
       "      <td>2.416410</td>\n",
       "      <td>3.645000</td>\n",
       "      <td>0.318921</td>\n",
       "      <td>04:30</td>\n",
       "    </tr>\n",
       "  </tbody>\n",
       "</table>"
      ],
      "text/plain": [
       "<IPython.core.display.HTML object>"
      ]
     },
     "metadata": {},
     "output_type": "display_data"
    }
   ],
   "source": [
    "learn.fit_one_cycle(10, 1e-3, moms=(0.8,0.7))"
   ]
  },
  {
   "cell_type": "code",
   "execution_count": 23,
   "metadata": {
    "colab": {},
    "colab_type": "code",
    "id": "ZYk9u8VBMUcg"
   },
   "outputs": [],
   "source": [
    "learn.save('fine_tuned')"
   ]
  },
  {
   "cell_type": "code",
   "execution_count": 24,
   "metadata": {
    "colab": {},
    "colab_type": "code",
    "id": "KrNmQvsDMnwG"
   },
   "outputs": [],
   "source": [
    "learn.load('fine_tuned');"
   ]
  },
  {
   "cell_type": "code",
   "execution_count": 25,
   "metadata": {
    "colab": {
     "base_uri": "https://localhost:8080/",
     "height": 71
    },
    "colab_type": "code",
    "executionInfo": {
     "elapsed": 404,
     "status": "ok",
     "timestamp": 1569535756118,
     "user": {
      "displayName": "Enrico Alemani",
      "photoUrl": "https://lh3.googleusercontent.com/a-/AAuE7mA4C8laWqMnKAOODQhP1RBcWqGjIz4S-56F60O1=s64",
      "userId": "18138561668109286622"
     },
     "user_tz": -60
    },
    "id": "-dGZsjllMj2L",
    "outputId": "c0938d6f-1cf2-4cef-cef6-8cb0703b0e20"
   },
   "outputs": [
    {
     "name": "stdout",
     "output_type": "stream",
     "text": [
      "I do not liked this restaurant because so many reviews would say it was bad . i went in on a Saturday around 5:30 and the place was still packed . It was a slow meeting and they lost my seat . Onto the\n",
      "I do not liked this restaurant because i have staples everyone know about it . i have n't taken everything from the first bite to the last . The service here is top notch . We really enjoy the Chicago style pizza .\n"
     ]
    }
   ],
   "source": [
    "TEXT = \"I do not liked this restaurant because\"\n",
    "N_WORDS = 40\n",
    "N_SENTENCES = 2\n",
    "print(\"\\n\".join(learn.predict(TEXT, N_WORDS, temperature=0.76) for _ in range(N_SENTENCES)))"
   ]
  },
  {
   "cell_type": "code",
   "execution_count": 26,
   "metadata": {
    "colab": {},
    "colab_type": "code",
    "id": "Uh-B7zMjNxJF"
   },
   "outputs": [],
   "source": [
    "learn.save_encoder('fine_tuned_enc')"
   ]
  },
  {
   "cell_type": "markdown",
   "metadata": {
    "colab_type": "text",
    "id": "bqxiqSphY6il"
   },
   "source": [
    "## Classifier"
   ]
  },
  {
   "cell_type": "code",
   "execution_count": 27,
   "metadata": {
    "colab": {
     "base_uri": "https://localhost:8080/",
     "height": 142
    },
    "colab_type": "code",
    "executionInfo": {
     "elapsed": 1199,
     "status": "ok",
     "timestamp": 1569510992472,
     "user": {
      "displayName": "Enrico Alemani",
      "photoUrl": "https://lh3.googleusercontent.com/a-/AAuE7mA4C8laWqMnKAOODQhP1RBcWqGjIz4S-56F60O1=s64",
      "userId": "18138561668109286622"
     },
     "user_tz": -60
    },
    "id": "LGi2hmZ-JOB6",
    "outputId": "e3d92f7c-131f-496c-a618-4d76c81e74b8"
   },
   "outputs": [
    {
     "data": {
      "text/html": [
       "<div>\n",
       "<style scoped>\n",
       "    .dataframe tbody tr th:only-of-type {\n",
       "        vertical-align: middle;\n",
       "    }\n",
       "\n",
       "    .dataframe tbody tr th {\n",
       "        vertical-align: top;\n",
       "    }\n",
       "\n",
       "    .dataframe thead th {\n",
       "        text-align: right;\n",
       "    }\n",
       "</style>\n",
       "<table border=\"1\" class=\"dataframe\">\n",
       "  <thead>\n",
       "    <tr style=\"text-align: right;\">\n",
       "      <th></th>\n",
       "      <th>text</th>\n",
       "      <th>label</th>\n",
       "      <th>is_valid</th>\n",
       "    </tr>\n",
       "  </thead>\n",
       "  <tbody>\n",
       "    <tr>\n",
       "      <th>54084</th>\n",
       "      <td>Rick bayless: Enough said - the man is a geniu...</td>\n",
       "      <td>Y</td>\n",
       "      <td>False</td>\n",
       "    </tr>\n",
       "    <tr>\n",
       "      <th>22003</th>\n",
       "      <td>My country friends decided they wanted to try ...</td>\n",
       "      <td>N</td>\n",
       "      <td>False</td>\n",
       "    </tr>\n",
       "    <tr>\n",
       "      <th>54939</th>\n",
       "      <td>If you haven't been here yet, then it is too l...</td>\n",
       "      <td>Y</td>\n",
       "      <td>False</td>\n",
       "    </tr>\n",
       "  </tbody>\n",
       "</table>\n",
       "</div>"
      ],
      "text/plain": [
       "                                                    text label  is_valid\n",
       "54084  Rick bayless: Enough said - the man is a geniu...     Y     False\n",
       "22003  My country friends decided they wanted to try ...     N     False\n",
       "54939  If you haven't been here yet, then it is too l...     Y     False"
      ]
     },
     "execution_count": 27,
     "metadata": {},
     "output_type": "execute_result"
    }
   ],
   "source": [
    "# Change the order of the columns\n",
    "df = df[['text', 'label', 'is_valid']]\n",
    "df.head(3)"
   ]
  },
  {
   "cell_type": "code",
   "execution_count": 28,
   "metadata": {
    "colab": {},
    "colab_type": "code",
    "id": "5xmTSh9xY7pj"
   },
   "outputs": [],
   "source": [
    "data_clas = (TextList.from_df(df, path, cols=['text', 'label', 'is_valid'], vocab=data_lm.vocab)\n",
    "             #grab all the text files in path\n",
    "             .split_from_df()\n",
    "             #split by is_valid column (that only keeps 'train' and 'test' so no need to filter)\n",
    "             .label_from_df(cols='label')\n",
    "             #label them all with their folders\n",
    "             .databunch(bs=bs))\n"
   ]
  },
  {
   "cell_type": "code",
   "execution_count": 29,
   "metadata": {
    "colab": {
     "base_uri": "https://localhost:8080/",
     "height": 307
    },
    "colab_type": "code",
    "executionInfo": {
     "elapsed": 2140,
     "status": "error",
     "timestamp": 1569512213928,
     "user": {
      "displayName": "Enrico Alemani",
      "photoUrl": "https://lh3.googleusercontent.com/a-/AAuE7mA4C8laWqMnKAOODQhP1RBcWqGjIz4S-56F60O1=s64",
      "userId": "18138561668109286622"
     },
     "user_tz": -60
    },
    "id": "iTJtFo2VJtDT",
    "outputId": "265b492d-a171-4e36-a139-c1a6935a120a"
   },
   "outputs": [],
   "source": [
    "data_clas.save('data_clas.pkl')\n"
   ]
  },
  {
   "cell_type": "code",
   "execution_count": 30,
   "metadata": {
    "colab": {
     "base_uri": "https://localhost:8080/",
     "height": 306
    },
    "colab_type": "code",
    "executionInfo": {
     "elapsed": 5709,
     "status": "ok",
     "timestamp": 1569512249351,
     "user": {
      "displayName": "Enrico Alemani",
      "photoUrl": "https://lh3.googleusercontent.com/a-/AAuE7mA4C8laWqMnKAOODQhP1RBcWqGjIz4S-56F60O1=s64",
      "userId": "18138561668109286622"
     },
     "user_tz": -60
    },
    "id": "_aC8IWDkFb5U",
    "outputId": "dcf52258-7202-40f5-c175-6fdc22001537"
   },
   "outputs": [
    {
     "data": {
      "text/html": [
       "<table border=\"1\" class=\"dataframe\">\n",
       "  <thead>\n",
       "    <tr style=\"text-align: right;\">\n",
       "      <th>text</th>\n",
       "      <th>target</th>\n",
       "    </tr>\n",
       "  </thead>\n",
       "  <tbody>\n",
       "    <tr>\n",
       "      <td>xxbos xxrep 4 * xxup this xxup review xxup is xxup in xxup regards xxup to xxup dinner xxup service xxrep 4 * xxmaj brian and i read on facebook that nana was open for dinner service from 6 - xxup 9pm on xxmaj tues / xxmaj we d / xxmaj thurs of this week , as a trial for the \" pre grand opening \" on xxmaj friday ,</td>\n",
       "      <td>N</td>\n",
       "    </tr>\n",
       "    <tr>\n",
       "      <td>xxbos i xxunk xxmaj alinea this past xxmaj friday night . i am torn about what to write for this review . xxmaj overall i enjoyed the experience , and i thought some of the dishes were absolutely hands down the most innovative food i have ever seen or tasted but i did n't leave there feeling completely blown away . xxmaj now , the only experience i have to</td>\n",
       "      <td>Y</td>\n",
       "    </tr>\n",
       "    <tr>\n",
       "      <td>xxbos xxmaj so a ton has been said about the restaurant , but this one 's for the hotel , which may be my new favorite place to stay ever , so here goes ... xxmaj first off , i was a little nervous about the whole overnight experience at xxup l&amp;e. xxmaj the photos on the website looked super cute but the bathrooms looked slightly challenging for super modest</td>\n",
       "      <td>N</td>\n",
       "    </tr>\n",
       "    <tr>\n",
       "      <td>xxbos i 'm a little torn here about how to rate xxmaj nana . xxmaj food alone gets a well deserved 5 stars . xxmaj everything else lacked some . xxmaj so let 's break it down xxrep 5 . xxmaj food : 5 + stars xxmaj service : 2 stars - max . xxmaj ambiance : 4 stars xxmaj that comes out to an average of xxunk stars so</td>\n",
       "      <td>N</td>\n",
       "    </tr>\n",
       "    <tr>\n",
       "      <td>xxbos i had the best margarita of my life in here , and the second best as well . i am xxunk so i had to try two different kinds for variety . xxmaj the xxmaj topolo margarita had xxmaj sauza xxmaj xxunk tequila , xxmaj torres orange liqueur , housemade limonada and was shaken tableside . xxmaj it was my fave of the two varietals , being a true</td>\n",
       "      <td>N</td>\n",
       "    </tr>\n",
       "  </tbody>\n",
       "</table>"
      ],
      "text/plain": [
       "<IPython.core.display.HTML object>"
      ]
     },
     "metadata": {},
     "output_type": "display_data"
    }
   ],
   "source": [
    "data_clas.show_batch()"
   ]
  },
  {
   "cell_type": "code",
   "execution_count": 31,
   "metadata": {
    "colab": {
     "base_uri": "https://localhost:8080/",
     "height": 324
    },
    "colab_type": "code",
    "executionInfo": {
     "elapsed": 741,
     "status": "error",
     "timestamp": 1569512399133,
     "user": {
      "displayName": "Enrico Alemani",
      "photoUrl": "https://lh3.googleusercontent.com/a-/AAuE7mA4C8laWqMnKAOODQhP1RBcWqGjIz4S-56F60O1=s64",
      "userId": "18138561668109286622"
     },
     "user_tz": -60
    },
    "id": "ap5CPFYDOo6O",
    "outputId": "783dac28-2fe7-4ebd-f59e-f9b71ff788d5"
   },
   "outputs": [],
   "source": [
    "data_clas = load_data(path, 'data_clas.pkl', bs=bs)\n",
    "#len(data_clas.vocab.itos) == len(data_lm.vocab.itos)"
   ]
  },
  {
   "cell_type": "code",
   "execution_count": 32,
   "metadata": {
    "colab": {
     "base_uri": "https://localhost:8080/",
     "height": 324
    },
    "colab_type": "code",
    "executionInfo": {
     "elapsed": 1661,
     "status": "error",
     "timestamp": 1569512276711,
     "user": {
      "displayName": "Enrico Alemani",
      "photoUrl": "https://lh3.googleusercontent.com/a-/AAuE7mA4C8laWqMnKAOODQhP1RBcWqGjIz4S-56F60O1=s64",
      "userId": "18138561668109286622"
     },
     "user_tz": -60
    },
    "id": "8rJMdnOZETpW",
    "outputId": "3388a102-e34f-448a-b306-ee020dbb2a7d"
   },
   "outputs": [],
   "source": [
    "learn = text_classifier_learner(data_clas, AWD_LSTM, drop_mult=0.5)\n",
    "learn.load_encoder('fine_tuned_enc');"
   ]
  },
  {
   "cell_type": "code",
   "execution_count": 33,
   "metadata": {
    "colab": {},
    "colab_type": "code",
    "id": "k-eBdSy9KG3r"
   },
   "outputs": [
    {
     "data": {
      "text/html": [],
      "text/plain": [
       "<IPython.core.display.HTML object>"
      ]
     },
     "metadata": {},
     "output_type": "display_data"
    },
    {
     "name": "stdout",
     "output_type": "stream",
     "text": [
      "LR Finder is complete, type {learner_name}.recorder.plot() to see the graph.\n"
     ]
    }
   ],
   "source": [
    "learn.lr_find()"
   ]
  },
  {
   "cell_type": "code",
   "execution_count": 34,
   "metadata": {
    "colab": {},
    "colab_type": "code",
    "id": "Z78nqDxEKG00"
   },
   "outputs": [
    {
     "data": {
      "image/png": "[encoded data removed]",
      "text/plain": [
       "<Figure size 432x288 with 1 Axes>"
      ]
     },
     "metadata": {
      "needs_background": "light"
     },
     "output_type": "display_data"
    }
   ],
   "source": [
    "learn.recorder.plot()"
   ]
  },
  {
   "cell_type": "code",
   "execution_count": 35,
   "metadata": {
    "colab": {},
    "colab_type": "code",
    "id": "gYvnKVY7KGxh"
   },
   "outputs": [
    {
     "data": {
      "text/html": [
       "<table border=\"1\" class=\"dataframe\">\n",
       "  <thead>\n",
       "    <tr style=\"text-align: left;\">\n",
       "      <th>epoch</th>\n",
       "      <th>train_loss</th>\n",
       "      <th>valid_loss</th>\n",
       "      <th>accuracy</th>\n",
       "      <th>time</th>\n",
       "    </tr>\n",
       "  </thead>\n",
       "  <tbody>\n",
       "    <tr>\n",
       "      <td>0</td>\n",
       "      <td>0.085621</td>\n",
       "      <td>0.003704</td>\n",
       "      <td>0.998976</td>\n",
       "      <td>01:46</td>\n",
       "    </tr>\n",
       "  </tbody>\n",
       "</table>"
      ],
      "text/plain": [
       "<IPython.core.display.HTML object>"
      ]
     },
     "metadata": {},
     "output_type": "display_data"
    }
   ],
   "source": [
    "learn.fit_one_cycle(1, 2e-2, moms=(0.8,0.7))"
   ]
  },
  {
   "cell_type": "code",
   "execution_count": 36,
   "metadata": {
    "colab": {},
    "colab_type": "code",
    "id": "wzxjg2W4KGts"
   },
   "outputs": [],
   "source": [
    "learn.save('first')"
   ]
  },
  {
   "cell_type": "code",
   "execution_count": 37,
   "metadata": {
    "colab": {},
    "colab_type": "code",
    "id": "jIpZjXZcKGoR"
   },
   "outputs": [],
   "source": [
    "learn.load('first');"
   ]
  },
  {
   "cell_type": "code",
   "execution_count": 38,
   "metadata": {},
   "outputs": [
    {
     "data": {
      "text/html": [
       "<table border=\"1\" class=\"dataframe\">\n",
       "  <thead>\n",
       "    <tr style=\"text-align: left;\">\n",
       "      <th>epoch</th>\n",
       "      <th>train_loss</th>\n",
       "      <th>valid_loss</th>\n",
       "      <th>accuracy</th>\n",
       "      <th>time</th>\n",
       "    </tr>\n",
       "  </thead>\n",
       "  <tbody>\n",
       "    <tr>\n",
       "      <td>0</td>\n",
       "      <td>0.020418</td>\n",
       "      <td>0.000274</td>\n",
       "      <td>1.000000</td>\n",
       "      <td>02:19</td>\n",
       "    </tr>\n",
       "  </tbody>\n",
       "</table>"
      ],
      "text/plain": [
       "<IPython.core.display.HTML object>"
      ]
     },
     "metadata": {},
     "output_type": "display_data"
    }
   ],
   "source": [
    "learn.freeze_to(-2)\n",
    "learn.fit_one_cycle(1, slice(1e-2/(2.6**4),1e-2), moms=(0.8,0.7))"
   ]
  },
  {
   "cell_type": "code",
   "execution_count": 39,
   "metadata": {},
   "outputs": [],
   "source": [
    "learn.save('second')"
   ]
  },
  {
   "cell_type": "code",
   "execution_count": 40,
   "metadata": {},
   "outputs": [],
   "source": [
    "learn.load('second');"
   ]
  },
  {
   "cell_type": "code",
   "execution_count": 41,
   "metadata": {},
   "outputs": [
    {
     "data": {
      "text/html": [
       "<table border=\"1\" class=\"dataframe\">\n",
       "  <thead>\n",
       "    <tr style=\"text-align: left;\">\n",
       "      <th>epoch</th>\n",
       "      <th>train_loss</th>\n",
       "      <th>valid_loss</th>\n",
       "      <th>accuracy</th>\n",
       "      <th>time</th>\n",
       "    </tr>\n",
       "  </thead>\n",
       "  <tbody>\n",
       "    <tr>\n",
       "      <td>0</td>\n",
       "      <td>0.004318</td>\n",
       "      <td>0.000022</td>\n",
       "      <td>1.000000</td>\n",
       "      <td>02:54</td>\n",
       "    </tr>\n",
       "  </tbody>\n",
       "</table>"
      ],
      "text/plain": [
       "<IPython.core.display.HTML object>"
      ]
     },
     "metadata": {},
     "output_type": "display_data"
    }
   ],
   "source": [
    "learn.freeze_to(-3)\n",
    "learn.fit_one_cycle(1, slice(5e-3/(2.6**4),5e-3), moms=(0.8,0.7))"
   ]
  },
  {
   "cell_type": "code",
   "execution_count": 42,
   "metadata": {},
   "outputs": [],
   "source": [
    "learn.save('third')"
   ]
  },
  {
   "cell_type": "code",
   "execution_count": 43,
   "metadata": {},
   "outputs": [],
   "source": [
    "learn.load('third');"
   ]
  },
  {
   "cell_type": "code",
   "execution_count": 44,
   "metadata": {},
   "outputs": [
    {
     "data": {
      "text/html": [
       "<table border=\"1\" class=\"dataframe\">\n",
       "  <thead>\n",
       "    <tr style=\"text-align: left;\">\n",
       "      <th>epoch</th>\n",
       "      <th>train_loss</th>\n",
       "      <th>valid_loss</th>\n",
       "      <th>accuracy</th>\n",
       "      <th>time</th>\n",
       "    </tr>\n",
       "  </thead>\n",
       "  <tbody>\n",
       "    <tr>\n",
       "      <td>0</td>\n",
       "      <td>0.009146</td>\n",
       "      <td>0.000025</td>\n",
       "      <td>1.000000</td>\n",
       "      <td>04:35</td>\n",
       "    </tr>\n",
       "    <tr>\n",
       "      <td>1</td>\n",
       "      <td>0.001261</td>\n",
       "      <td>0.000014</td>\n",
       "      <td>1.000000</td>\n",
       "      <td>03:37</td>\n",
       "    </tr>\n",
       "  </tbody>\n",
       "</table>"
      ],
      "text/plain": [
       "<IPython.core.display.HTML object>"
      ]
     },
     "metadata": {},
     "output_type": "display_data"
    }
   ],
   "source": [
    "learn.unfreeze()\n",
    "learn.fit_one_cycle(2, slice(1e-3/(2.6**4),1e-3), moms=(0.8,0.7))"
   ]
  },
  {
   "cell_type": "code",
   "execution_count": 45,
   "metadata": {},
   "outputs": [
    {
     "data": {
      "text/plain": [
       "(Category Y, tensor(1), tensor([0.0026, 0.9974]))"
      ]
     },
     "execution_count": 45,
     "metadata": {},
     "output_type": "execute_result"
    }
   ],
   "source": [
    "learn.predict(\"xxbos i xxunk xxmaj alinea this past xxmaj friday night . i am torn about what to write for this review . xxmaj overall i enjoyed the experience , and i thought some of the dishes were absolutely hands down the most innovative food i have ever seen or tasted but i did n't leave there feeling completely blown away . xxmaj now , the only experience i have to\")"
   ]
  },
  {
   "cell_type": "markdown",
   "metadata": {},
   "source": [
    "## Classification interpretation"
   ]
  },
  {
   "cell_type": "code",
   "execution_count": 49,
   "metadata": {},
   "outputs": [
    {
     "data": {
      "text/html": [
       "<table border=\"1\" class=\"dataframe\">\n",
       "  <thead>\n",
       "    <tr style=\"text-align: right;\">\n",
       "      <th>Text</th>\n",
       "      <th>Prediction</th>\n",
       "      <th>Actual</th>\n",
       "      <th>Loss</th>\n",
       "      <th>Probability</th>\n",
       "    </tr>\n",
       "  </thead>\n",
       "  <tbody>\n",
       "    <tr>\n",
       "      <td>xxbos xxmaj best xxmaj veggie xxmaj patty i 've ever had ... xxmaj i've been vegan , xxmaj veggie , and occasionally eat burgers now , and this veggie burger is phenomenal . xxmaj staff is nice , beer is good and it 's a good speed all around . xxmaj get it ! y xxmaj true</td>\n",
       "      <td>N</td>\n",
       "      <td>Y</td>\n",
       "      <td>0.00</td>\n",
       "      <td>0.00</td>\n",
       "    </tr>\n",
       "    <tr>\n",
       "      <td>xxbos xxmaj first of all , it 's a little pretentious and pricey . xxmaj it looks like a dive on the outside , it 's kind of cold , and not a whole lot of smiles . xxup but the drink menu is one of the most creative i have ever experienced . xxmaj the decor is classic and beautiful . xxmaj no cell phones , so turn it</td>\n",
       "      <td>Y</td>\n",
       "      <td>Y</td>\n",
       "      <td>0.00</td>\n",
       "      <td>1.00</td>\n",
       "    </tr>\n",
       "    <tr>\n",
       "      <td>xxbos xxmaj just ordered delivery .. i think maybe going there would have been a better idea ! xxmaj the girl who took the order was super friendly .. she said the guy would be over in about 15 .. so he calls me 20 mins later and xxunk what my address is ? ! xxmaj so i m thinking my burger is not going to be remotely warm since</td>\n",
       "      <td>Y</td>\n",
       "      <td>N</td>\n",
       "      <td>0.00</td>\n",
       "      <td>0.00</td>\n",
       "    </tr>\n",
       "    <tr>\n",
       "      <td>xxbos xxmaj amazing , amazing , amazing ! xxmaj there is nothing left i can say about xxmaj pequod 's that has n't already been said by the other xxunk reviewers . xxmaj the caramelized crust , the pan blackened bottom , and the secret sauce are the 3 components that make this the best deep dish in xxmaj chicago . xxmaj seating can be tricky on a busy night</td>\n",
       "      <td>Y</td>\n",
       "      <td>N</td>\n",
       "      <td>0.00</td>\n",
       "      <td>0.00</td>\n",
       "    </tr>\n",
       "    <tr>\n",
       "      <td>xxbos xxmaj had a great lunch at xxmaj sunda with a client . xxmaj earned some extra points with them for a great recommendation ! xxmaj we shared a couple of apps and 4 rolls ... delicious ! xxmaj loved the xxmaj firecracker ! ! xxmaj strongly suggest a lunch at xxmaj sunda . y xxmaj true</td>\n",
       "      <td>Y</td>\n",
       "      <td>Y</td>\n",
       "      <td>0.00</td>\n",
       "      <td>1.00</td>\n",
       "    </tr>\n",
       "  </tbody>\n",
       "</table>"
      ],
      "text/plain": [
       "<IPython.core.display.HTML object>"
      ]
     },
     "metadata": {},
     "output_type": "display_data"
    }
   ],
   "source": [
    "# Tabulation showing the first k texts in top_losses along with their prediction, actual,loss, \n",
    "# and probability of actual class. max_len is the maximum number of tokens displayed. \n",
    "# If max_len=None, it will display all tokens.\n",
    "txt_ci = TextClassificationInterpretation.from_learner(learn)\n",
    "txt_ci.show_top_losses(5)"
   ]
  },
  {
   "cell_type": "markdown",
   "metadata": {},
   "source": [
    "### Sequential Jacobian"
   ]
  },
  {
   "cell_type": "code",
   "execution_count": 50,
   "metadata": {},
   "outputs": [
    {
     "name": "stderr",
     "output_type": "stream",
     "text": [
      "/opt/conda/conda-bld/pytorch_1565272271120/work/aten/src/ATen/native/cuda/LegacyDefinitions.cpp:14: UserWarning: masked_fill_ received a mask with dtype torch.uint8, this behavior is now deprecated,please use a mask with dtype torch.bool instead.\n",
      "/opt/conda/conda-bld/pytorch_1565272271120/work/aten/src/ATen/native/cuda/LegacyDefinitions.cpp:14: UserWarning: masked_fill_ received a mask with dtype torch.uint8, this behavior is now deprecated,please use a mask with dtype torch.bool instead.\n",
      "/opt/conda/conda-bld/pytorch_1565272271120/work/aten/src/ATen/native/cuda/LegacyDefinitions.cpp:14: UserWarning: masked_fill_ received a mask with dtype torch.uint8, this behavior is now deprecated,please use a mask with dtype torch.bool instead.\n",
      "/opt/conda/conda-bld/pytorch_1565272271120/work/aten/src/ATen/native/cuda/LegacyDefinitions.cpp:14: UserWarning: masked_fill_ received a mask with dtype torch.uint8, this behavior is now deprecated,please use a mask with dtype torch.bool instead.\n"
     ]
    },
    {
     "data": {
      "text/html": [
       "<span style=\"font-family: monospace;\"><span title=\"0.049\" style=\"background-color: rgba(247, 245, 249, 0.5);\">xxbos</span> <span title=\"0.086\" style=\"background-color: rgba(243, 241, 247, 0.5);\">xxbos</span> <span title=\"0.108\" style=\"background-color: rgba(240, 239, 246, 0.5);\">i</span> <span title=\"0.447\" style=\"background-color: rgba(170, 168, 208, 0.5);\">xxunk</span> <span title=\"0.187\" style=\"background-color: rgba(229, 227, 240, 0.5);\">xxmaj</span> <span title=\"1.000\" style=\"background-color: rgba(63, 0, 125, 0.5);\">alinea</span> <span title=\"0.210\" style=\"background-color: rgba(225, 224, 238, 0.5);\">this</span> <span title=\"0.321\" style=\"background-color: rgba(200, 201, 226, 0.5);\">past</span> <span title=\"0.119\" style=\"background-color: rgba(239, 237, 245, 0.5);\">xxmaj</span> <span title=\"0.166\" style=\"background-color: rgba(232, 230, 241, 0.5);\">friday</span> <span title=\"0.074\" style=\"background-color: rgba(244, 243, 248, 0.5);\">night</span> <span title=\"0.035\" style=\"background-color: rgba(248, 247, 250, 0.5);\">.</span> <span title=\"0.061\" style=\"background-color: rgba(245, 244, 249, 0.5);\">i</span> <span title=\"0.238\" style=\"background-color: rgba(220, 220, 236, 0.5);\">am</span> <span title=\"0.472\" style=\"background-color: rgba(165, 162, 204, 0.5);\">torn</span> <span title=\"0.187\" style=\"background-color: rgba(229, 227, 240, 0.5);\">about</span> <span title=\"0.267\" style=\"background-color: rgba(214, 214, 233, 0.5);\">what</span> <span title=\"0.197\" style=\"background-color: rgba(227, 226, 239, 0.5);\">to</span> <span title=\"0.233\" style=\"background-color: rgba(221, 220, 236, 0.5);\">write</span> <span title=\"0.082\" style=\"background-color: rgba(243, 242, 247, 0.5);\">for</span> <span title=\"0.083\" style=\"background-color: rgba(243, 241, 247, 0.5);\">this</span> <span title=\"0.086\" style=\"background-color: rgba(243, 241, 247, 0.5);\">review</span> <span title=\"0.042\" style=\"background-color: rgba(247, 246, 250, 0.5);\">.</span> <span title=\"0.038\" style=\"background-color: rgba(248, 247, 250, 0.5);\">xxmaj</span> <span title=\"0.120\" style=\"background-color: rgba(239, 237, 245, 0.5);\">overall</span> <span title=\"0.044\" style=\"background-color: rgba(247, 246, 250, 0.5);\">i</span> <span title=\"0.120\" style=\"background-color: rgba(239, 237, 245, 0.5);\">enjoyed</span> <span title=\"0.035\" style=\"background-color: rgba(248, 247, 250, 0.5);\">the</span> <span title=\"0.085\" style=\"background-color: rgba(243, 241, 247, 0.5);\">experience</span> <span title=\"0.024\" style=\"background-color: rgba(249, 248, 251, 0.5);\">,</span> <span title=\"0.033\" style=\"background-color: rgba(248, 247, 250, 0.5);\">and</span> <span title=\"0.047\" style=\"background-color: rgba(247, 245, 249, 0.5);\">i</span> <span title=\"0.130\" style=\"background-color: rgba(238, 236, 244, 0.5);\">thought</span> <span title=\"0.123\" style=\"background-color: rgba(239, 237, 245, 0.5);\">some</span> <span title=\"0.052\" style=\"background-color: rgba(246, 245, 249, 0.5);\">of</span> <span title=\"0.041\" style=\"background-color: rgba(247, 246, 250, 0.5);\">the</span> <span title=\"0.148\" style=\"background-color: rgba(235, 233, 243, 0.5);\">dishes</span> <span title=\"0.068\" style=\"background-color: rgba(245, 243, 248, 0.5);\">were</span> <span title=\"0.240\" style=\"background-color: rgba(219, 219, 235, 0.5);\">absolutely</span> <span title=\"0.302\" style=\"background-color: rgba(205, 205, 228, 0.5);\">hands</span> <span title=\"0.119\" style=\"background-color: rgba(239, 237, 245, 0.5);\">down</span> <span title=\"0.082\" style=\"background-color: rgba(243, 242, 247, 0.5);\">the</span> <span title=\"0.136\" style=\"background-color: rgba(237, 235, 244, 0.5);\">most</span> <span title=\"0.317\" style=\"background-color: rgba(201, 202, 226, 0.5);\">innovative</span> <span title=\"0.128\" style=\"background-color: rgba(238, 236, 244, 0.5);\">food</span> <span title=\"0.070\" style=\"background-color: rgba(245, 243, 248, 0.5);\">i</span> <span title=\"0.055\" style=\"background-color: rgba(246, 245, 249, 0.5);\">have</span> <span title=\"0.054\" style=\"background-color: rgba(246, 245, 249, 0.5);\">ever</span> <span title=\"0.109\" style=\"background-color: rgba(240, 239, 246, 0.5);\">seen</span> <span title=\"0.062\" style=\"background-color: rgba(245, 244, 249, 0.5);\">or</span> <span title=\"0.056\" style=\"background-color: rgba(246, 244, 249, 0.5);\">tasted</span> <span title=\"0.040\" style=\"background-color: rgba(247, 246, 250, 0.5);\">but</span> <span title=\"0.043\" style=\"background-color: rgba(247, 246, 250, 0.5);\">i</span> <span title=\"0.070\" style=\"background-color: rgba(244, 243, 248, 0.5);\">did</span> <span title=\"0.078\" style=\"background-color: rgba(244, 242, 248, 0.5);\">n&#x27;t</span> <span title=\"0.178\" style=\"background-color: rgba(230, 229, 240, 0.5);\">leave</span> <span title=\"0.082\" style=\"background-color: rgba(243, 242, 247, 0.5);\">there</span> <span title=\"0.153\" style=\"background-color: rgba(234, 232, 242, 0.5);\">feeling</span> <span title=\"0.177\" style=\"background-color: rgba(230, 229, 240, 0.5);\">completely</span> <span title=\"0.123\" style=\"background-color: rgba(239, 237, 245, 0.5);\">blown</span> <span title=\"0.039\" style=\"background-color: rgba(247, 246, 250, 0.5);\">away</span> <span title=\"0.025\" style=\"background-color: rgba(249, 248, 251, 0.5);\">.</span> <span title=\"0.035\" style=\"background-color: rgba(248, 247, 250, 0.5);\">xxmaj</span> <span title=\"0.175\" style=\"background-color: rgba(231, 229, 241, 0.5);\">now</span> <span title=\"0.095\" style=\"background-color: rgba(242, 240, 246, 0.5);\">,</span> <span title=\"0.151\" style=\"background-color: rgba(234, 233, 243, 0.5);\">the</span> <span title=\"0.434\" style=\"background-color: rgba(173, 172, 210, 0.5);\">only</span> <span title=\"0.760\" style=\"background-color: rgba(104, 77, 161, 0.5);\">experience</span> <span title=\"0.322\" style=\"background-color: rgba(200, 201, 226, 0.5);\">i</span> <span title=\"0.440\" style=\"background-color: rgba(172, 171, 209, 0.5);\">have</span> <span title=\"0.477\" style=\"background-color: rgba(163, 160, 203, 0.5);\">to</span></span>"
      ],
      "text/plain": [
       "<IPython.core.display.HTML object>"
      ]
     },
     "metadata": {},
     "output_type": "display_data"
    }
   ],
   "source": [
    "import matplotlib.cm as cm\n",
    "test_text = \"xxbos i xxunk xxmaj alinea this past xxmaj friday night . i am torn about what to write for this review . xxmaj overall i enjoyed the experience , and i thought some of the dishes were absolutely hands down the most innovative food i have ever seen or tasted but i did n't leave there feeling completely blown away . xxmaj now , the only experience i have to\"\n",
    "txt_ci.show_intrinsic_attention(test_text,cmap=cm.Purples)"
   ]
  },
  {
   "cell_type": "code",
   "execution_count": 51,
   "metadata": {},
   "outputs": [
    {
     "name": "stderr",
     "output_type": "stream",
     "text": [
      "/opt/conda/conda-bld/pytorch_1565272271120/work/aten/src/ATen/native/cuda/LegacyDefinitions.cpp:14: UserWarning: masked_fill_ received a mask with dtype torch.uint8, this behavior is now deprecated,please use a mask with dtype torch.bool instead.\n",
      "/opt/conda/conda-bld/pytorch_1565272271120/work/aten/src/ATen/native/cuda/LegacyDefinitions.cpp:14: UserWarning: masked_fill_ received a mask with dtype torch.uint8, this behavior is now deprecated,please use a mask with dtype torch.bool instead.\n",
      "/opt/conda/conda-bld/pytorch_1565272271120/work/aten/src/ATen/native/cuda/LegacyDefinitions.cpp:14: UserWarning: masked_fill_ received a mask with dtype torch.uint8, this behavior is now deprecated,please use a mask with dtype torch.bool instead.\n",
      "/opt/conda/conda-bld/pytorch_1565272271120/work/aten/src/ATen/native/cuda/LegacyDefinitions.cpp:14: UserWarning: masked_fill_ received a mask with dtype torch.uint8, this behavior is now deprecated,please use a mask with dtype torch.bool instead.\n"
     ]
    },
    {
     "data": {
      "text/plain": [
       "tensor([0.0492, 0.0859, 0.1084, 0.4470, 0.1868, 1.0000, 0.2095, 0.3213, 0.1194,\n",
       "        0.1664, 0.0736, 0.0355, 0.0609, 0.2376, 0.4720, 0.1866, 0.2668, 0.1967,\n",
       "        0.2327, 0.0816, 0.0834, 0.0861, 0.0418, 0.0382, 0.1199, 0.0436, 0.1202,\n",
       "        0.0348, 0.0849, 0.0236, 0.0328, 0.0470, 0.1300, 0.1228, 0.0515, 0.0413,\n",
       "        0.1479, 0.0684, 0.2403, 0.3023, 0.1191, 0.0817, 0.1361, 0.3175, 0.1281,\n",
       "        0.0698, 0.0547, 0.0540, 0.1092, 0.0621, 0.0563, 0.0403, 0.0432, 0.0704,\n",
       "        0.0781, 0.1781, 0.0815, 0.1526, 0.1766, 0.1232, 0.0391, 0.0252, 0.0353,\n",
       "        0.1746, 0.0949, 0.1511, 0.4337, 0.7605, 0.3224, 0.4402, 0.4768],\n",
       "       device='cuda:0')"
      ]
     },
     "execution_count": 51,
     "metadata": {},
     "output_type": "execute_result"
    }
   ],
   "source": [
    "# Raw attention values\n",
    "txt_ci.intrinsic_attention(test_text)[1]"
   ]
  },
  {
   "cell_type": "markdown",
   "metadata": {},
   "source": [
    "### Review pertubations (approach similar to Lime)"
   ]
  },
  {
   "cell_type": "code",
   "execution_count": 82,
   "metadata": {},
   "outputs": [],
   "source": [
    "# Save predictions, index and probabilities (this is required for Lime)\n",
    "def predict_fn(txt):\n",
    "    pred_class, idx, prob = learn.predict(test_text)\n",
    "    #print(pred_class)\n",
    "    return prob.reshape(-1, 2).numpy()\n",
    "\n",
    "\n",
    "def softmax(x):\n",
    "    tmp = np.zeros_like(x)\n",
    "    \"\"\"Compute softmax values for each sets of scores in x.\"\"\"\n",
    "    for i in range(x.shape[0]):\n",
    "        s = np.exp(x[i, :])/np.sum(np.exp(x[i, :]))\n",
    "        tmp[i, :] = s\n",
    "    return tmp # only difference\n",
    "\n",
    "\n",
    "def batch_predict(texts):\n",
    "    for i, text in enumerate(texts):\n",
    "        output = predict_fn(text)\n",
    "        #print (output)\n",
    "        if i == 0:\n",
    "            preds = output\n",
    "        else:\n",
    "            preds = np.concatenate((preds, output), axis=0 )\n",
    "    return softmax(preds.reshape(-1, len(data_clas.unique())))\n"
   ]
  },
  {
   "cell_type": "code",
   "execution_count": 66,
   "metadata": {},
   "outputs": [],
   "source": [
    "def to_np(x): \n",
    "    \"Convert a tensor to a numpy array.\"\n",
    "    return x.data.cpu().numpy()\n",
    "\n",
    "def prediction_fn(text):\n",
    "    res = []\n",
    "    # Ask FastText for the top 10 most likely labels for each piece of text.\n",
    "    # This ensures we always get a probability score for every possible label in our model.\n",
    "    pred_class, idx, probabilities = learn.predict(text)\n",
    "\n",
    "    # For each prediction, sort the probabaility scores into the same order\n",
    "    # (I.e. no_stars, 1_star, 2_star, etc). This is needed because FastText\n",
    "    # returns predicitons sorted by most likely instead of in a fixed order.\n",
    "    #for label, probs in zip(pred_class, probabilities):\n",
    "    #    order = np.argsort(np.array(label))\n",
    "    #    res.append(probs[order])\n",
    "\n",
    "    #return np.array(res)\n",
    "    return probabilities.numpy()"
   ]
  },
  {
   "cell_type": "code",
   "execution_count": 68,
   "metadata": {},
   "outputs": [],
   "source": [
    "#!pip install lime;"
   ]
  },
  {
   "cell_type": "code",
   "execution_count": 83,
   "metadata": {},
   "outputs": [
    {
     "ename": "ValueError",
     "evalue": "Found input variables with inconsistent numbers of samples: [5000, 1]",
     "output_type": "error",
     "traceback": [
      "\u001b[0;31m---------------------------------------------------------------------------\u001b[0m",
      "\u001b[0;31mValueError\u001b[0m                                Traceback (most recent call last)",
      "\u001b[0;32m<ipython-input-83-80ccf4597b54>\u001b[0m in \u001b[0;36m<module>\u001b[0;34m\u001b[0m\n\u001b[1;32m     18\u001b[0m     \u001b[0mtest_text\u001b[0m\u001b[0;34m,\u001b[0m\u001b[0;34m\u001b[0m\u001b[0;34m\u001b[0m\u001b[0m\n\u001b[1;32m     19\u001b[0m     \u001b[0;31m# The wrapper function that returns FastText predictions in scikit-learn format\u001b[0m\u001b[0;34m\u001b[0m\u001b[0;34m\u001b[0m\u001b[0;34m\u001b[0m\u001b[0m\n\u001b[0;32m---> 20\u001b[0;31m     \u001b[0mclassifier_fn\u001b[0m\u001b[0;34m=\u001b[0m\u001b[0mpredict_fn\u001b[0m\u001b[0;34m,\u001b[0m\u001b[0;34m\u001b[0m\u001b[0;34m\u001b[0m\u001b[0m\n\u001b[0m\u001b[1;32m     21\u001b[0m     \u001b[0;31m# How many labels to explain. We just want to explain the single most likely label.\u001b[0m\u001b[0;34m\u001b[0m\u001b[0;34m\u001b[0m\u001b[0;34m\u001b[0m\u001b[0m\n\u001b[1;32m     22\u001b[0m     \u001b[0;31m#top_labels=1,\u001b[0m\u001b[0;34m\u001b[0m\u001b[0;34m\u001b[0m\u001b[0;34m\u001b[0m\u001b[0m\n",
      "\u001b[0;32m~/anaconda3/lib/python3.7/site-packages/lime/lime_text.py\u001b[0m in \u001b[0;36mexplain_instance\u001b[0;34m(self, text_instance, classifier_fn, labels, top_labels, num_features, num_samples, distance_metric, model_regressor)\u001b[0m\n\u001b[1;32m    432\u001b[0m                 \u001b[0mdata\u001b[0m\u001b[0;34m,\u001b[0m \u001b[0myss\u001b[0m\u001b[0;34m,\u001b[0m \u001b[0mdistances\u001b[0m\u001b[0;34m,\u001b[0m \u001b[0mlabel\u001b[0m\u001b[0;34m,\u001b[0m \u001b[0mnum_features\u001b[0m\u001b[0;34m,\u001b[0m\u001b[0;34m\u001b[0m\u001b[0;34m\u001b[0m\u001b[0m\n\u001b[1;32m    433\u001b[0m                 \u001b[0mmodel_regressor\u001b[0m\u001b[0;34m=\u001b[0m\u001b[0mmodel_regressor\u001b[0m\u001b[0;34m,\u001b[0m\u001b[0;34m\u001b[0m\u001b[0;34m\u001b[0m\u001b[0m\n\u001b[0;32m--> 434\u001b[0;31m                 feature_selection=self.feature_selection)\n\u001b[0m\u001b[1;32m    435\u001b[0m         \u001b[0;32mreturn\u001b[0m \u001b[0mret_exp\u001b[0m\u001b[0;34m\u001b[0m\u001b[0;34m\u001b[0m\u001b[0m\n\u001b[1;32m    436\u001b[0m \u001b[0;34m\u001b[0m\u001b[0m\n",
      "\u001b[0;32m~/anaconda3/lib/python3.7/site-packages/lime/lime_base.py\u001b[0m in \u001b[0;36mexplain_instance_with_data\u001b[0;34m(self, neighborhood_data, neighborhood_labels, distances, label, num_features, feature_selection, model_regressor)\u001b[0m\n\u001b[1;32m    186\u001b[0m                                                \u001b[0mweights\u001b[0m\u001b[0;34m,\u001b[0m\u001b[0;34m\u001b[0m\u001b[0;34m\u001b[0m\u001b[0m\n\u001b[1;32m    187\u001b[0m                                                \u001b[0mnum_features\u001b[0m\u001b[0;34m,\u001b[0m\u001b[0;34m\u001b[0m\u001b[0;34m\u001b[0m\u001b[0m\n\u001b[0;32m--> 188\u001b[0;31m                                                feature_selection)\n\u001b[0m\u001b[1;32m    189\u001b[0m         \u001b[0;32mif\u001b[0m \u001b[0mmodel_regressor\u001b[0m \u001b[0;32mis\u001b[0m \u001b[0;32mNone\u001b[0m\u001b[0;34m:\u001b[0m\u001b[0;34m\u001b[0m\u001b[0;34m\u001b[0m\u001b[0m\n\u001b[1;32m    190\u001b[0m             model_regressor = Ridge(alpha=1, fit_intercept=True,\n",
      "\u001b[0;32m~/anaconda3/lib/python3.7/site-packages/lime/lime_base.py\u001b[0m in \u001b[0;36mfeature_selection\u001b[0;34m(self, data, labels, weights, num_features, method)\u001b[0m\n\u001b[1;32m    134\u001b[0m                 \u001b[0mn_method\u001b[0m \u001b[0;34m=\u001b[0m \u001b[0;34m'highest_weights'\u001b[0m\u001b[0;34m\u001b[0m\u001b[0;34m\u001b[0m\u001b[0m\n\u001b[1;32m    135\u001b[0m             return self.feature_selection(data, labels, weights,\n\u001b[0;32m--> 136\u001b[0;31m                                           num_features, n_method)\n\u001b[0m\u001b[1;32m    137\u001b[0m \u001b[0;34m\u001b[0m\u001b[0m\n\u001b[1;32m    138\u001b[0m     def explain_instance_with_data(self,\n",
      "\u001b[0;32m~/anaconda3/lib/python3.7/site-packages/lime/lime_base.py\u001b[0m in \u001b[0;36mfeature_selection\u001b[0;34m(self, data, labels, weights, num_features, method)\u001b[0m\n\u001b[1;32m     79\u001b[0m             clf = Ridge(alpha=0, fit_intercept=True,\n\u001b[1;32m     80\u001b[0m                         random_state=self.random_state)\n\u001b[0;32m---> 81\u001b[0;31m             \u001b[0mclf\u001b[0m\u001b[0;34m.\u001b[0m\u001b[0mfit\u001b[0m\u001b[0;34m(\u001b[0m\u001b[0mdata\u001b[0m\u001b[0;34m,\u001b[0m \u001b[0mlabels\u001b[0m\u001b[0;34m,\u001b[0m \u001b[0msample_weight\u001b[0m\u001b[0;34m=\u001b[0m\u001b[0mweights\u001b[0m\u001b[0;34m)\u001b[0m\u001b[0;34m\u001b[0m\u001b[0;34m\u001b[0m\u001b[0m\n\u001b[0m\u001b[1;32m     82\u001b[0m \u001b[0;34m\u001b[0m\u001b[0m\n\u001b[1;32m     83\u001b[0m             \u001b[0mcoef\u001b[0m \u001b[0;34m=\u001b[0m \u001b[0mclf\u001b[0m\u001b[0;34m.\u001b[0m\u001b[0mcoef_\u001b[0m\u001b[0;34m\u001b[0m\u001b[0;34m\u001b[0m\u001b[0m\n",
      "\u001b[0;32m~/anaconda3/lib/python3.7/site-packages/sklearn/linear_model/ridge.py\u001b[0m in \u001b[0;36mfit\u001b[0;34m(self, X, y, sample_weight)\u001b[0m\n\u001b[1;32m    745\u001b[0m         \u001b[0mself\u001b[0m \u001b[0;34m:\u001b[0m \u001b[0mreturns\u001b[0m \u001b[0man\u001b[0m \u001b[0minstance\u001b[0m \u001b[0mof\u001b[0m \u001b[0mself\u001b[0m\u001b[0;34m.\u001b[0m\u001b[0;34m\u001b[0m\u001b[0;34m\u001b[0m\u001b[0m\n\u001b[1;32m    746\u001b[0m         \"\"\"\n\u001b[0;32m--> 747\u001b[0;31m         \u001b[0;32mreturn\u001b[0m \u001b[0msuper\u001b[0m\u001b[0;34m(\u001b[0m\u001b[0;34m)\u001b[0m\u001b[0;34m.\u001b[0m\u001b[0mfit\u001b[0m\u001b[0;34m(\u001b[0m\u001b[0mX\u001b[0m\u001b[0;34m,\u001b[0m \u001b[0my\u001b[0m\u001b[0;34m,\u001b[0m \u001b[0msample_weight\u001b[0m\u001b[0;34m=\u001b[0m\u001b[0msample_weight\u001b[0m\u001b[0;34m)\u001b[0m\u001b[0;34m\u001b[0m\u001b[0;34m\u001b[0m\u001b[0m\n\u001b[0m\u001b[1;32m    748\u001b[0m \u001b[0;34m\u001b[0m\u001b[0m\n\u001b[1;32m    749\u001b[0m \u001b[0;34m\u001b[0m\u001b[0m\n",
      "\u001b[0;32m~/anaconda3/lib/python3.7/site-packages/sklearn/linear_model/ridge.py\u001b[0m in \u001b[0;36mfit\u001b[0;34m(self, X, y, sample_weight)\u001b[0m\n\u001b[1;32m    545\u001b[0m                          \u001b[0maccept_sparse\u001b[0m\u001b[0;34m=\u001b[0m\u001b[0m_accept_sparse\u001b[0m\u001b[0;34m,\u001b[0m\u001b[0;34m\u001b[0m\u001b[0;34m\u001b[0m\u001b[0m\n\u001b[1;32m    546\u001b[0m                          \u001b[0mdtype\u001b[0m\u001b[0;34m=\u001b[0m\u001b[0m_dtype\u001b[0m\u001b[0;34m,\u001b[0m\u001b[0;34m\u001b[0m\u001b[0;34m\u001b[0m\u001b[0m\n\u001b[0;32m--> 547\u001b[0;31m                          multi_output=True, y_numeric=True)\n\u001b[0m\u001b[1;32m    548\u001b[0m \u001b[0;34m\u001b[0m\u001b[0m\n\u001b[1;32m    549\u001b[0m         if ((sample_weight is not None) and\n",
      "\u001b[0;32m~/anaconda3/lib/python3.7/site-packages/sklearn/utils/validation.py\u001b[0m in \u001b[0;36mcheck_X_y\u001b[0;34m(X, y, accept_sparse, accept_large_sparse, dtype, order, copy, force_all_finite, ensure_2d, allow_nd, multi_output, ensure_min_samples, ensure_min_features, y_numeric, warn_on_dtype, estimator)\u001b[0m\n\u001b[1;32m    727\u001b[0m         \u001b[0my\u001b[0m \u001b[0;34m=\u001b[0m \u001b[0my\u001b[0m\u001b[0;34m.\u001b[0m\u001b[0mastype\u001b[0m\u001b[0;34m(\u001b[0m\u001b[0mnp\u001b[0m\u001b[0;34m.\u001b[0m\u001b[0mfloat64\u001b[0m\u001b[0;34m)\u001b[0m\u001b[0;34m\u001b[0m\u001b[0;34m\u001b[0m\u001b[0m\n\u001b[1;32m    728\u001b[0m \u001b[0;34m\u001b[0m\u001b[0m\n\u001b[0;32m--> 729\u001b[0;31m     \u001b[0mcheck_consistent_length\u001b[0m\u001b[0;34m(\u001b[0m\u001b[0mX\u001b[0m\u001b[0;34m,\u001b[0m \u001b[0my\u001b[0m\u001b[0;34m)\u001b[0m\u001b[0;34m\u001b[0m\u001b[0;34m\u001b[0m\u001b[0m\n\u001b[0m\u001b[1;32m    730\u001b[0m \u001b[0;34m\u001b[0m\u001b[0m\n\u001b[1;32m    731\u001b[0m     \u001b[0;32mreturn\u001b[0m \u001b[0mX\u001b[0m\u001b[0;34m,\u001b[0m \u001b[0my\u001b[0m\u001b[0;34m\u001b[0m\u001b[0;34m\u001b[0m\u001b[0m\n",
      "\u001b[0;32m~/anaconda3/lib/python3.7/site-packages/sklearn/utils/validation.py\u001b[0m in \u001b[0;36mcheck_consistent_length\u001b[0;34m(*arrays)\u001b[0m\n\u001b[1;32m    203\u001b[0m     \u001b[0;32mif\u001b[0m \u001b[0mlen\u001b[0m\u001b[0;34m(\u001b[0m\u001b[0muniques\u001b[0m\u001b[0;34m)\u001b[0m \u001b[0;34m>\u001b[0m \u001b[0;36m1\u001b[0m\u001b[0;34m:\u001b[0m\u001b[0;34m\u001b[0m\u001b[0;34m\u001b[0m\u001b[0m\n\u001b[1;32m    204\u001b[0m         raise ValueError(\"Found input variables with inconsistent numbers of\"\n\u001b[0;32m--> 205\u001b[0;31m                          \" samples: %r\" % [int(l) for l in lengths])\n\u001b[0m\u001b[1;32m    206\u001b[0m \u001b[0;34m\u001b[0m\u001b[0m\n\u001b[1;32m    207\u001b[0m \u001b[0;34m\u001b[0m\u001b[0m\n",
      "\u001b[0;31mValueError\u001b[0m: Found input variables with inconsistent numbers of samples: [5000, 1]"
     ]
    }
   ],
   "source": [
    "import lime.lime_text\n",
    "import numpy as np\n",
    "import webbrowser\n",
    "\n",
    "explainer = lime.lime_text.LimeTextExplainer(\n",
    "    # We need to tell LIME how to split the string into words. We can do this\n",
    "    # by giving it a function to call to split a string up the same way FastText does it.\n",
    "    #split_expression=tokenize_string,\n",
    "    # Our FastText classifer uses bigrams (two-word pairs) to classify text. Setting\n",
    "    # bow=False tells LIME to not assume that our classifier is based on single words only.\n",
    "    bow=True,\n",
    "    # To make the output pretty, tell LIME what to call each possible prediction from our model.\n",
    "    class_names=[\"No\", \"Yes\"]\n",
    ")\n",
    "\n",
    "exp = explainer.explain_instance(\n",
    "    # The review to explain\n",
    "    test_text,\n",
    "    # The wrapper function that returns FastText predictions in scikit-learn format\n",
    "    classifier_fn=predict_fn,\n",
    "    # How many labels to explain. We just want to explain the single most likely label.\n",
    "    #top_labels=1,\n",
    "    # How many words in our sentence to include in the explanation. You can try different values.\n",
    "    #num_features=5,\n",
    ")"
   ]
  },
  {
   "cell_type": "code",
   "execution_count": null,
   "metadata": {},
   "outputs": [],
   "source": [
    "# Save the explanation to an HTML file so it's easy to view.\n",
    "# You can also get it to other formats: as_list(), as_map(), etc.\n",
    "# See https://lime-ml.readthedocs.io/en/latest/lime.html#lime.explanation.Explanation\n",
    "output_filename = Path(__file__).parent / \"explanation.html\"\n",
    "#exp.save_to_file(output_filename)\n",
    "\n",
    "# Open the explanation html in our web browser.\n",
    "webbrowser.open(output_filename.as_uri())"
   ]
  },
  {
   "cell_type": "code",
   "execution_count": null,
   "metadata": {},
   "outputs": [],
   "source": []
  },
  {
   "cell_type": "code",
   "execution_count": null,
   "metadata": {},
   "outputs": [],
   "source": [
    "# fin"
   ]
  }
 ],
 "metadata": {
  "accelerator": "GPU",
  "colab": {
   "collapsed_sections": [],
   "name": "YelpChi.ipynb",
   "provenance": []
  },
  "kernelspec": {
   "display_name": "Python 3",
   "language": "python",
   "name": "python3"
  },
  "language_info": {
   "codemirror_mode": {
    "name": "ipython",
    "version": 3
   },
   "file_extension": ".py",
   "mimetype": "text/x-python",
   "name": "python",
   "nbconvert_exporter": "python",
   "pygments_lexer": "ipython3",
   "version": "3.7.3"
  }
 },
 "nbformat": 4,
 "nbformat_minor": 4
}
