{
 "cells": [
  {
   "cell_type": "code",
   "execution_count": null,
   "metadata": {},
   "outputs": [],
   "source": [
    "#export\n",
    "from exp.nb_09c import *"
   ]
  },
  {
   "cell_type": "code",
   "execution_count": null,
   "metadata": {},
   "outputs": [],
   "source": [
    "#export\n",
    "make_rgb._order=0"
   ]
  },
  {
   "cell_type": "code",
   "execution_count": null,
   "metadata": {},
   "outputs": [],
   "source": [
    "#export\n",
    "import random"
   ]
  },
  {
   "cell_type": "code",
   "execution_count": null,
   "metadata": {},
   "outputs": [],
   "source": [
    "#export\n",
    "def show_image(im, ax=None, figsize=(3,3)):\n",
    "    if ax is None: _,ax = plt.subplots(1, 1, figsize=figsize)\n",
    "    ax.axis('off')\n",
    "    ax.imshow(im.permute(1,2,0))\n",
    "\n",
    "def show_batch(x, c=4, r=None, figsize=None):\n",
    "    n = len(x)\n",
    "    if r is None: r = int(math.ceil(n/c))\n",
    "    if figsize is None: figsize=(c*3,r*3)\n",
    "    fig,axes = plt.subplots(r,c, figsize=figsize)\n",
    "    for xi,ax in zip(x,axes.flat): show_image(xi, ax)"
   ]
  },
  {
   "cell_type": "code",
   "execution_count": null,
   "metadata": {},
   "outputs": [],
   "source": [
    "#export\n",
    "class PilTransform(Transform): _order=11\n",
    "\n",
    "class PilRandomFlip(PilTransform):\n",
    "    def __init__(self, p=0.5): self.p=p\n",
    "    def __call__(self, x):\n",
    "        return x.transpose(PIL.Image.FLIP_LEFT_RIGHT) if random.random()<self.p else x"
   ]
  },
  {
   "cell_type": "code",
   "execution_count": null,
   "metadata": {},
   "outputs": [],
   "source": [
    "#export\n",
    "class PilRandomDihedral(PilTransform):\n",
    "    def __init__(self, p=0.75): self.p=p*7/8 #Little hack to get the 1/8 identity dihedral transform taken into account.\n",
    "    def __call__(self, x):\n",
    "        if random.random()>self.p: return x\n",
    "        return x.transpose(random.randint(0,6))"
   ]
  },
  {
   "cell_type": "code",
   "execution_count": null,
   "metadata": {},
   "outputs": [],
   "source": [
    "#export\n",
    "from random import randint\n",
    "\n",
    "def process_sz(sz):\n",
    "    sz = listify(sz)\n",
    "    return tuple(sz if len(sz)==2 else [sz[0],sz[0]])\n",
    "\n",
    "def default_crop_size(w,h): return [w,w] if w < h else [h,h]\n",
    "\n",
    "class GeneralCrop(PilTransform):\n",
    "    def __init__(self, size, crop_size=None, resample=PIL.Image.BILINEAR): \n",
    "        self.resample,self.size = resample,process_sz(size)\n",
    "        self.crop_size = None if crop_size is None else process_sz(crop_size)\n",
    "        \n",
    "    def default_crop_size(self, w,h): return default_crop_size(w,h)\n",
    "\n",
    "    def __call__(self, x):\n",
    "        csize = self.default_crop_size(*x.size) if self.crop_size is None else self.crop_size\n",
    "        return x.transform(self.size, PIL.Image.EXTENT, self.get_corners(*x.size, *csize), resample=self.resample)\n",
    "    \n",
    "    def get_corners(self, w, h): return (0,0,w,h)\n",
    "\n",
    "class CenterCrop(GeneralCrop):\n",
    "    def __init__(self, size, scale=1.14, resample=PIL.Image.BILINEAR):\n",
    "        super().__init__(size, resample=resample)\n",
    "        self.scale = scale\n",
    "        \n",
    "    def default_crop_size(self, w,h): return [w/self.scale,h/self.scale]\n",
    "    \n",
    "    def get_corners(self, w, h, wc, hc):\n",
    "        return ((w-wc)//2, (h-hc)//2, (w-wc)//2+wc, (h-hc)//2+hc)"
   ]
  },
  {
   "cell_type": "code",
   "execution_count": null,
   "metadata": {},
   "outputs": [],
   "source": [
    "# export\n",
    "class RandomResizedCrop(GeneralCrop):\n",
    "    def __init__(self, size, scale=(0.08,1.0), ratio=(3./4., 4./3.), resample=PIL.Image.BILINEAR):\n",
    "        super().__init__(size, resample=resample)\n",
    "        self.scale,self.ratio = scale,ratio\n",
    "    \n",
    "    def get_corners(self, w, h, wc, hc):\n",
    "        area = w*h\n",
    "        #Tries 10 times to get a proper crop inside the image.\n",
    "        for attempt in range(10):\n",
    "            area = random.uniform(*self.scale) * area\n",
    "            ratio = math.exp(random.uniform(math.log(self.ratio[0]), math.log(self.ratio[1])))\n",
    "            new_w = int(round(math.sqrt(area * ratio)))\n",
    "            new_h = int(round(math.sqrt(area / ratio)))\n",
    "            if new_w <= w and new_h <= h:\n",
    "                left = random.randint(0, w - new_w)\n",
    "                top  = random.randint(0, h - new_h)\n",
    "                return (left, top, left + new_w, top + new_h)\n",
    "        \n",
    "        # Fallback to squish\n",
    "        if   w/h < self.ratio[0]: size = (w, int(w/self.ratio[0]))\n",
    "        elif w/h > self.ratio[1]: size = (int(h*self.ratio[1]), h)\n",
    "        else:                     size = (w, h)\n",
    "        return ((w-size[0])//2, (h-size[1])//2, (w+size[0])//2, (h+size[1])//2)"
   ]
  },
  {
   "cell_type": "code",
   "execution_count": null,
   "metadata": {},
   "outputs": [],
   "source": [
    "# export\n",
    "from torch import FloatTensor,LongTensor\n",
    "\n",
    "def find_coeffs(orig_pts, targ_pts):\n",
    "    matrix = []\n",
    "    #The equations we'll need to solve.\n",
    "    for p1, p2 in zip(targ_pts, orig_pts):\n",
    "        matrix.append([p1[0], p1[1], 1, 0, 0, 0, -p2[0]*p1[0], -p2[0]*p1[1]])\n",
    "        matrix.append([0, 0, 0, p1[0], p1[1], 1, -p2[1]*p1[0], -p2[1]*p1[1]])\n",
    "\n",
    "    A = FloatTensor(matrix)\n",
    "    B = FloatTensor(orig_pts).view(8, 1)\n",
    "    #The 8 scalars we seek are solution of AX = B\n",
    "    return list(torch.solve(B,A)[0][:,0])"
   ]
  },
  {
   "cell_type": "code",
   "execution_count": null,
   "metadata": {},
   "outputs": [],
   "source": [
    "# export\n",
    "def warp(img, size, src_coords, resample=PIL.Image.BILINEAR):\n",
    "    w,h = size\n",
    "    targ_coords = ((0,0),(0,h),(w,h),(w,0))\n",
    "    c = find_coeffs(src_coords,targ_coords)\n",
    "    res = img.transform(size, PIL.Image.PERSPECTIVE, list(c), resample=resample)\n",
    "    return res"
   ]
  },
  {
   "cell_type": "code",
   "execution_count": null,
   "metadata": {},
   "outputs": [],
   "source": [
    "# export\n",
    "def uniform(a,b): return a + (b-a) * random.random()"
   ]
  },
  {
   "cell_type": "code",
   "execution_count": null,
   "metadata": {},
   "outputs": [],
   "source": [
    "# export\n",
    "class PilTiltRandomCrop(PilTransform):\n",
    "    def __init__(self, size, crop_size=None, magnitude=0., resample=PIL.Image.BILINEAR): \n",
    "        self.resample,self.size,self.magnitude = resample,process_sz(size),magnitude\n",
    "        self.crop_size = None if crop_size is None else process_sz(crop_size)\n",
    "        \n",
    "    def __call__(self, x):\n",
    "        csize = default_crop_size(*x.size) if self.crop_size is None else self.crop_size\n",
    "        left,top = randint(0,x.size[0]-csize[0]),randint(0,x.size[1]-csize[1])\n",
    "        top_magn = min(self.magnitude, left/csize[0], (x.size[0]-left)/csize[0]-1)\n",
    "        lr_magn  = min(self.magnitude, top /csize[1], (x.size[1]-top) /csize[1]-1)\n",
    "        up_t,lr_t = uniform(-top_magn, top_magn),uniform(-lr_magn, lr_magn)\n",
    "        src_corners = tensor([[-up_t, -lr_t], [up_t, 1+lr_t], [1-up_t, 1-lr_t], [1+up_t, lr_t]])\n",
    "        src_corners = src_corners * tensor(csize).float() + tensor([left,top]).float()\n",
    "        src_corners = tuple([(int(o[0].item()), int(o[1].item())) for o in src_corners])\n",
    "        return warp(x, self.size, src_corners, resample=self.resample)"
   ]
  },
  {
   "cell_type": "code",
   "execution_count": null,
   "metadata": {},
   "outputs": [],
   "source": [
    "#export\n",
    "import numpy as np\n",
    "\n",
    "def np_to_float(x): return torch.from_numpy(np.array(x, dtype=np.float32, copy=False)).permute(2,0,1).contiguous()/255.\n",
    "np_to_float._order = 30"
   ]
  },
  {
   "cell_type": "code",
   "execution_count": null,
   "metadata": {},
   "outputs": [],
   "source": [
    "## Export"
   ]
  },
  {
   "cell_type": "code",
   "execution_count": null,
   "metadata": {},
   "outputs": [],
   "source": [
    "!python notebook2script.py 10_augmentation.ipynb"
   ]
  },
  {
   "cell_type": "code",
   "execution_count": null,
   "metadata": {},
   "outputs": [],
   "source": []
  },
  {
   "cell_type": "code",
   "execution_count": null,
   "metadata": {},
   "outputs": [],
   "source": []
  },
  {
   "cell_type": "code",
   "execution_count": null,
   "metadata": {},
   "outputs": [],
   "source": []
  }
 ],
 "metadata": {
  "kernelspec": {
   "display_name": "Python 3",
   "language": "python",
   "name": "python3"
  },
  "language_info": {
   "codemirror_mode": {
    "name": "ipython",
    "version": 3
   },
   "file_extension": ".py",
   "mimetype": "text/x-python",
   "name": "python",
   "nbconvert_exporter": "python",
   "pygments_lexer": "ipython3",
   "version": "3.7.3"
  }
 },
 "nbformat": 4,
 "nbformat_minor": 4
}
