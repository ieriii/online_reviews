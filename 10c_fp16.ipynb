{
 "cells": [
  {
   "cell_type": "code",
   "execution_count": 3,
   "metadata": {},
   "outputs": [
    {
     "name": "stdout",
     "output_type": "stream",
     "text": [
      "Requirement already satisfied: apex in /home/ubuntu/anaconda3/lib/python3.7/site-packages (0.9.10.dev0)\n",
      "Requirement already satisfied: requests in /home/ubuntu/anaconda3/lib/python3.7/site-packages (from apex) (2.22.0)\n",
      "Requirement already satisfied: pyramid>1.1.2 in /home/ubuntu/anaconda3/lib/python3.7/site-packages (from apex) (1.10.4)\n",
      "Requirement already satisfied: wtforms in /home/ubuntu/anaconda3/lib/python3.7/site-packages (from apex) (2.2.1)\n",
      "Requirement already satisfied: pyramid-mailer in /home/ubuntu/anaconda3/lib/python3.7/site-packages (from apex) (0.15.1)\n",
      "Requirement already satisfied: velruse>=1.0.3 in /home/ubuntu/anaconda3/lib/python3.7/site-packages (from apex) (1.1.1)\n",
      "Requirement already satisfied: cryptacular in /home/ubuntu/anaconda3/lib/python3.7/site-packages (from apex) (1.5.5)\n",
      "Requirement already satisfied: zope.sqlalchemy in /home/ubuntu/anaconda3/lib/python3.7/site-packages (from apex) (1.2)\n",
      "Requirement already satisfied: wtforms-recaptcha in /home/ubuntu/anaconda3/lib/python3.7/site-packages (from apex) (0.3.2)\n",
      "Requirement already satisfied: chardet<3.1.0,>=3.0.2 in /home/ubuntu/anaconda3/lib/python3.7/site-packages (from requests->apex) (3.0.4)\n",
      "Requirement already satisfied: certifi>=2017.4.17 in /home/ubuntu/anaconda3/lib/python3.7/site-packages (from requests->apex) (2019.9.11)\n",
      "Requirement already satisfied: urllib3!=1.25.0,!=1.25.1,<1.26,>=1.21.1 in /home/ubuntu/.local/lib/python3.7/site-packages (from requests->apex) (1.22)\n",
      "Requirement already satisfied: idna<2.9,>=2.5 in /home/ubuntu/anaconda3/lib/python3.7/site-packages (from requests->apex) (2.8)\n",
      "Requirement already satisfied: setuptools in /home/ubuntu/anaconda3/lib/python3.7/site-packages (from pyramid>1.1.2->apex) (41.0.1)\n",
      "Requirement already satisfied: hupper>=1.5 in /home/ubuntu/anaconda3/lib/python3.7/site-packages (from pyramid>1.1.2->apex) (1.9.1)\n",
      "Requirement already satisfied: venusian>=1.0 in /home/ubuntu/anaconda3/lib/python3.7/site-packages (from pyramid>1.1.2->apex) (3.0.0)\n",
      "Requirement already satisfied: plaster-pastedeploy in /home/ubuntu/anaconda3/lib/python3.7/site-packages (from pyramid>1.1.2->apex) (0.7)\n",
      "Requirement already satisfied: zope.deprecation>=3.5.0 in /home/ubuntu/anaconda3/lib/python3.7/site-packages (from pyramid>1.1.2->apex) (4.4.0)\n",
      "Requirement already satisfied: zope.interface>=3.8.0 in /home/ubuntu/anaconda3/lib/python3.7/site-packages (from pyramid>1.1.2->apex) (4.7.1)\n",
      "Requirement already satisfied: plaster in /home/ubuntu/anaconda3/lib/python3.7/site-packages (from pyramid>1.1.2->apex) (1.0)\n",
      "Requirement already satisfied: webob>=1.8.3 in /home/ubuntu/anaconda3/lib/python3.7/site-packages (from pyramid>1.1.2->apex) (1.8.5)\n",
      "Requirement already satisfied: translationstring>=0.4 in /home/ubuntu/anaconda3/lib/python3.7/site-packages (from pyramid>1.1.2->apex) (1.3)\n",
      "Requirement already satisfied: repoze.sendmail>=4.1 in /home/ubuntu/anaconda3/lib/python3.7/site-packages (from pyramid-mailer->apex) (4.4.1)\n",
      "Requirement already satisfied: transaction in /home/ubuntu/anaconda3/lib/python3.7/site-packages (from pyramid-mailer->apex) (2.4.0)\n",
      "Requirement already satisfied: python3-openid in /home/ubuntu/anaconda3/lib/python3.7/site-packages (from velruse>=1.0.3->apex) (3.1.0)\n",
      "Requirement already satisfied: requests-oauthlib in /home/ubuntu/anaconda3/lib/python3.7/site-packages (from velruse>=1.0.3->apex) (1.3.0)\n",
      "Requirement already satisfied: anykeystore in /home/ubuntu/anaconda3/lib/python3.7/site-packages (from velruse>=1.0.3->apex) (0.2)\n",
      "Requirement already satisfied: pbkdf2 in /home/ubuntu/anaconda3/lib/python3.7/site-packages (from cryptacular->apex) (1.3)\n",
      "Requirement already satisfied: SQLAlchemy>=0.7 in /home/ubuntu/anaconda3/lib/python3.7/site-packages (from zope.sqlalchemy->apex) (1.3.5)\n",
      "Requirement already satisfied: PasteDeploy>=2.0 in /home/ubuntu/anaconda3/lib/python3.7/site-packages (from plaster-pastedeploy->pyramid>1.1.2->apex) (2.0.1)\n",
      "Requirement already satisfied: defusedxml in /home/ubuntu/anaconda3/lib/python3.7/site-packages (from python3-openid->velruse>=1.0.3->apex) (0.6.0)\n",
      "Requirement already satisfied: oauthlib>=3.0.0 in /home/ubuntu/anaconda3/lib/python3.7/site-packages (from requests-oauthlib->velruse>=1.0.3->apex) (3.1.0)\n"
     ]
    }
   ],
   "source": [
    "!pip install apex"
   ]
  },
  {
   "cell_type": "code",
   "execution_count": 4,
   "metadata": {},
   "outputs": [],
   "source": [
    "#export\n",
    "from exp.nb_10b import *"
   ]
  },
  {
   "cell_type": "code",
   "execution_count": 5,
   "metadata": {},
   "outputs": [
    {
     "ename": "TypeError",
     "evalue": "Class advice impossible in Python3.  Use the @implementer class decorator instead.",
     "output_type": "error",
     "traceback": [
      "\u001b[0;31m---------------------------------------------------------------------------\u001b[0m",
      "\u001b[0;31mTypeError\u001b[0m                                 Traceback (most recent call last)",
      "\u001b[0;32m<ipython-input-5-73b93aeffd3d>\u001b[0m in \u001b[0;36m<module>\u001b[0;34m\u001b[0m\n\u001b[1;32m      1\u001b[0m \u001b[0;31m# export\u001b[0m\u001b[0;34m\u001b[0m\u001b[0;34m\u001b[0m\u001b[0;34m\u001b[0m\u001b[0m\n\u001b[0;32m----> 2\u001b[0;31m \u001b[0;32mimport\u001b[0m \u001b[0mapex\u001b[0m\u001b[0;34m.\u001b[0m\u001b[0mfp16_utils\u001b[0m \u001b[0;32mas\u001b[0m \u001b[0mfp16\u001b[0m\u001b[0;34m\u001b[0m\u001b[0;34m\u001b[0m\u001b[0m\n\u001b[0m",
      "\u001b[0;32m~/anaconda3/lib/python3.7/site-packages/apex/__init__.py\u001b[0m in \u001b[0;36m<module>\u001b[0;34m\u001b[0m\n\u001b[1;32m     16\u001b[0m from apex.exceptions import (ApexAuthSecret,\n\u001b[1;32m     17\u001b[0m                              ApexSessionSecret)\n\u001b[0;32m---> 18\u001b[0;31m from apex.interfaces import (ApexImplementation,\n\u001b[0m\u001b[1;32m     19\u001b[0m                              IApex)\n\u001b[1;32m     20\u001b[0m from apex.lib.libapex import (groupfinder,\n",
      "\u001b[0;32m~/anaconda3/lib/python3.7/site-packages/apex/interfaces.py\u001b[0m in \u001b[0;36m<module>\u001b[0;34m\u001b[0m\n\u001b[1;32m      8\u001b[0m     \u001b[0;32mpass\u001b[0m\u001b[0;34m\u001b[0m\u001b[0;34m\u001b[0m\u001b[0m\n\u001b[1;32m      9\u001b[0m \u001b[0;34m\u001b[0m\u001b[0m\n\u001b[0;32m---> 10\u001b[0;31m \u001b[0;32mclass\u001b[0m \u001b[0mApexImplementation\u001b[0m\u001b[0;34m(\u001b[0m\u001b[0mobject\u001b[0m\u001b[0;34m)\u001b[0m\u001b[0;34m:\u001b[0m\u001b[0;34m\u001b[0m\u001b[0;34m\u001b[0m\u001b[0m\n\u001b[0m\u001b[1;32m     11\u001b[0m     \"\"\" Class so that we can tell if Apex is installed from other \n\u001b[1;32m     12\u001b[0m     \u001b[0mapplications\u001b[0m\u001b[0;34m\u001b[0m\u001b[0;34m\u001b[0m\u001b[0m\n",
      "\u001b[0;32m~/anaconda3/lib/python3.7/site-packages/apex/interfaces.py\u001b[0m in \u001b[0;36mApexImplementation\u001b[0;34m()\u001b[0m\n\u001b[1;32m     12\u001b[0m     \u001b[0mapplications\u001b[0m\u001b[0;34m\u001b[0m\u001b[0;34m\u001b[0m\u001b[0m\n\u001b[1;32m     13\u001b[0m     \"\"\"\n\u001b[0;32m---> 14\u001b[0;31m     \u001b[0mimplements\u001b[0m\u001b[0;34m(\u001b[0m\u001b[0mIApex\u001b[0m\u001b[0;34m)\u001b[0m\u001b[0;34m\u001b[0m\u001b[0;34m\u001b[0m\u001b[0m\n\u001b[0m",
      "\u001b[0;32m~/anaconda3/lib/python3.7/site-packages/zope/interface/declarations.py\u001b[0m in \u001b[0;36mimplements\u001b[0;34m(*interfaces)\u001b[0m\n\u001b[1;32m    481\u001b[0m     \u001b[0;31m# the coverage for this block there. :(\u001b[0m\u001b[0;34m\u001b[0m\u001b[0;34m\u001b[0m\u001b[0;34m\u001b[0m\u001b[0m\n\u001b[1;32m    482\u001b[0m     \u001b[0;32mif\u001b[0m \u001b[0mPYTHON3\u001b[0m\u001b[0;34m:\u001b[0m\u001b[0;34m\u001b[0m\u001b[0;34m\u001b[0m\u001b[0m\n\u001b[0;32m--> 483\u001b[0;31m         \u001b[0;32mraise\u001b[0m \u001b[0mTypeError\u001b[0m\u001b[0;34m(\u001b[0m\u001b[0m_ADVICE_ERROR\u001b[0m \u001b[0;34m%\u001b[0m \u001b[0;34m'implementer'\u001b[0m\u001b[0;34m)\u001b[0m\u001b[0;34m\u001b[0m\u001b[0;34m\u001b[0m\u001b[0m\n\u001b[0m\u001b[1;32m    484\u001b[0m     \u001b[0m_implements\u001b[0m\u001b[0;34m(\u001b[0m\u001b[0;34m\"implements\"\u001b[0m\u001b[0;34m,\u001b[0m \u001b[0minterfaces\u001b[0m\u001b[0;34m,\u001b[0m \u001b[0mclassImplements\u001b[0m\u001b[0;34m)\u001b[0m\u001b[0;34m\u001b[0m\u001b[0;34m\u001b[0m\u001b[0m\n\u001b[1;32m    485\u001b[0m \u001b[0;34m\u001b[0m\u001b[0m\n",
      "\u001b[0;31mTypeError\u001b[0m: Class advice impossible in Python3.  Use the @implementer class decorator instead."
     ]
    }
   ],
   "source": [
    "# export \n",
    "import apex.fp16_utils as fp16"
   ]
  },
  {
   "cell_type": "code",
   "execution_count": null,
   "metadata": {},
   "outputs": [],
   "source": [
    "# export \n",
    "def get_master(opt, flat_master=False):\n",
    "    model_pgs = [[param for param in pg if param.requires_grad] for pg in opt.param_groups]\n",
    "    if flat_master:\n",
    "        master_pgs = []\n",
    "        for pg in model_pgs:\n",
    "            mp = parameters_to_vector([param.data.float() for param in pg])\n",
    "            mp = torch.nn.Parameter(mp, requires_grad=True)\n",
    "            if mp.grad is None: mp.grad = mp.new(*mp.size())\n",
    "            master_pgs.append([mp])\n",
    "    else:\n",
    "        master_pgs = [[param.clone().float().detach() for param in pg] for pg in model_pgs]\n",
    "        for pg in master_pgs:\n",
    "            for param in pg: param.requires_grad_(True)\n",
    "    return model_pgs, master_pgs"
   ]
  },
  {
   "cell_type": "code",
   "execution_count": null,
   "metadata": {},
   "outputs": [],
   "source": [
    "# export \n",
    "def to_master_grads(model_pgs, master_pgs, flat_master:bool=False)->None:\n",
    "    for (model_params,master_params) in zip(model_pgs,master_pgs):\n",
    "        fp16.model_grads_to_master_grads(model_params, master_params, flat_master=flat_master)"
   ]
  },
  {
   "cell_type": "code",
   "execution_count": null,
   "metadata": {},
   "outputs": [],
   "source": [
    "# export \n",
    "def to_model_params(model_pgs, master_pgs, flat_master:bool=False)->None:\n",
    "    for (model_params,master_params) in zip(model_pgs,master_pgs):\n",
    "        fp16.master_params_to_model_params(model_params, master_params, flat_master=flat_master)"
   ]
  },
  {
   "cell_type": "code",
   "execution_count": null,
   "metadata": {},
   "outputs": [],
   "source": [
    "# export \n",
    "def test_overflow(x):\n",
    "    s = float(x.float().sum())\n",
    "    return (s == float('inf') or s == float('-inf') or s != s)"
   ]
  },
  {
   "cell_type": "code",
   "execution_count": null,
   "metadata": {},
   "outputs": [],
   "source": [
    "# export \n",
    "def grad_overflow(param_groups):\n",
    "    for group in param_groups:\n",
    "        for p in group:\n",
    "            if p.grad is not None:\n",
    "                s = float(p.grad.data.float().sum())\n",
    "                if s == float('inf') or s == float('-inf') or s != s: return True\n",
    "    return False"
   ]
  },
  {
   "cell_type": "code",
   "execution_count": null,
   "metadata": {},
   "outputs": [],
   "source": [
    "# export \n",
    "class MixedPrecision(Callback):\n",
    "    _order = 99\n",
    "    def __init__(self, loss_scale=512, flat_master=False, dynamic=True, max_loss_scale=2.**24, div_factor=2.,\n",
    "                 scale_wait=500):\n",
    "        assert torch.backends.cudnn.enabled, \"Mixed precision training requires cudnn.\"\n",
    "        self.flat_master,self.dynamic,self.max_loss_scale = flat_master,dynamic,max_loss_scale\n",
    "        self.div_factor,self.scale_wait = div_factor,scale_wait\n",
    "        self.loss_scale = max_loss_scale if dynamic else loss_scale\n",
    "\n",
    "    def begin_fit(self):\n",
    "        self.run.model = fp16.convert_network(self.model, dtype=torch.float16)\n",
    "        self.model_pgs, self.master_pgs = get_master(self.opt, self.flat_master)\n",
    "        #Changes the optimizer so that the optimization step is done in FP32.\n",
    "        self.run.opt.param_groups = self.master_pgs #Put those param groups inside our runner.\n",
    "        if self.dynamic: self.count = 0\n",
    "\n",
    "    def begin_batch(self): self.run.xb = self.run.xb.half() #Put the inputs to half precision\n",
    "    def after_pred(self):  self.run.pred = self.run.pred.float() #Compute the loss in FP32\n",
    "    def after_loss(self):  \n",
    "        if self.in_train: self.run.loss *= self.loss_scale #Loss scaling to avoid gradient underflow\n",
    "\n",
    "    def after_backward(self):\n",
    "        #First, check for an overflow\n",
    "        if self.dynamic and grad_overflow(self.model_pgs):\n",
    "            #Divide the loss scale by div_factor, zero the grad (after_step will be skipped)\n",
    "            self.loss_scale /= self.div_factor\n",
    "            self.model.zero_grad()\n",
    "            return True #skip step and zero_grad\n",
    "        #Copy the gradients to master and unscale\n",
    "        to_master_grads(self.model_pgs, self.master_pgs, self.flat_master)\n",
    "        for master_params in self.master_pgs:\n",
    "            for param in master_params:\n",
    "                if param.grad is not None: param.grad.div_(self.loss_scale)\n",
    "        #Check if it's been long enough without overflow\n",
    "        if self.dynamic:\n",
    "            self.count += 1\n",
    "            if self.count == self.scale_wait:\n",
    "                self.count = 0\n",
    "                self.loss_scale *= self.div_factor\n",
    "\n",
    "    def after_step(self):\n",
    "        #Zero the gradients of the model since the optimizer is disconnected.\n",
    "        self.model.zero_grad()\n",
    "        #Update the params from master to model.\n",
    "        to_model_params(self.model_pgs, self.master_pgs, self.flat_master)"
   ]
  },
  {
   "cell_type": "code",
   "execution_count": null,
   "metadata": {},
   "outputs": [],
   "source": [
    "## Export"
   ]
  },
  {
   "cell_type": "code",
   "execution_count": null,
   "metadata": {},
   "outputs": [],
   "source": [
    "!python notebook2script.py 10c_fp16.ipynb"
   ]
  },
  {
   "cell_type": "code",
   "execution_count": null,
   "metadata": {},
   "outputs": [],
   "source": []
  }
 ],
 "metadata": {
  "kernelspec": {
   "display_name": "Python 3",
   "language": "python",
   "name": "python3"
  },
  "language_info": {
   "codemirror_mode": {
    "name": "ipython",
    "version": 3
   },
   "file_extension": ".py",
   "mimetype": "text/x-python",
   "name": "python",
   "nbconvert_exporter": "python",
   "pygments_lexer": "ipython3",
   "version": "3.7.3"
  }
 },
 "nbformat": 4,
 "nbformat_minor": 4
}
